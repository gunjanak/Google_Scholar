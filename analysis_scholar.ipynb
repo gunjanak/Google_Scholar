{
 "cells": [
  {
   "cell_type": "markdown",
   "metadata": {},
   "source": [
    "**Read the data**"
   ]
  },
  {
   "cell_type": "code",
   "execution_count": 1,
   "metadata": {},
   "outputs": [],
   "source": [
    "import pandas as pd"
   ]
  },
  {
   "cell_type": "code",
   "execution_count": 2,
   "metadata": {},
   "outputs": [],
   "source": [
    "path = \"application+of+eigenvectors.csv\"\n",
    "df = pd.read_csv(path)"
   ]
  },
  {
   "cell_type": "code",
   "execution_count": 3,
   "metadata": {},
   "outputs": [
    {
     "data": {
      "text/html": [
       "<div>\n",
       "<style scoped>\n",
       "    .dataframe tbody tr th:only-of-type {\n",
       "        vertical-align: middle;\n",
       "    }\n",
       "\n",
       "    .dataframe tbody tr th {\n",
       "        vertical-align: top;\n",
       "    }\n",
       "\n",
       "    .dataframe thead th {\n",
       "        text-align: right;\n",
       "    }\n",
       "</style>\n",
       "<table border=\"1\" class=\"dataframe\">\n",
       "  <thead>\n",
       "    <tr style=\"text-align: right;\">\n",
       "      <th></th>\n",
       "      <th>UID</th>\n",
       "      <th>Title</th>\n",
       "      <th>Article_Link</th>\n",
       "      <th>Authors</th>\n",
       "      <th>Abstract</th>\n",
       "      <th>Publication</th>\n",
       "      <th>Num_citation</th>\n",
       "      <th>Cited_by_url</th>\n",
       "      <th>Published_Year</th>\n",
       "    </tr>\n",
       "  </thead>\n",
       "  <tbody>\n",
       "    <tr>\n",
       "      <th>0</th>\n",
       "      <td>2DMqugwNW9oJ</td>\n",
       "      <td>A new concept of eigenvalues andeigenvectorsan...</td>\n",
       "      <td>https://ieeexplore.ieee.org/abstract/document/...</td>\n",
       "      <td>['MY Wu']</td>\n",
       "      <td>… The purpose of this correspondence is to int...</td>\n",
       "      <td>ieeexplore.ieee.org</td>\n",
       "      <td>68</td>\n",
       "      <td>/scholar?cites=15734184071463056344&amp;as_sdt=200...</td>\n",
       "      <td>1980</td>\n",
       "    </tr>\n",
       "    <tr>\n",
       "      <th>1</th>\n",
       "      <td>zzpzALD37SQJ</td>\n",
       "      <td>Eigenvectorcentrality and itsapplicationin res...</td>\n",
       "      <td>https://ieeexplore.ieee.org/abstract/document/...</td>\n",
       "      <td>['A Bihari', ' MK Pandia']</td>\n",
       "      <td>… discusseigenvectorcentrality and itsapplicat...</td>\n",
       "      <td>ieeexplore.ieee.org</td>\n",
       "      <td>65</td>\n",
       "      <td>/scholar?cites=2661055290139687631&amp;as_sdt=2005...</td>\n",
       "      <td>2015</td>\n",
       "    </tr>\n",
       "    <tr>\n",
       "      <th>2</th>\n",
       "      <td>SVmjfYkcXxUJ</td>\n",
       "      <td>Commoneigenvectorsof two matrices</td>\n",
       "      <td>https://www.sciencedirect.com/science/article/...</td>\n",
       "      <td>['D Shemesh']</td>\n",
       "      <td>… also aneigenvectorof B. We can restate this ...</td>\n",
       "      <td>Elsevier</td>\n",
       "      <td>118</td>\n",
       "      <td>/scholar?cites=1539980974427953481&amp;as_sdt=2005...</td>\n",
       "      <td>1984</td>\n",
       "    </tr>\n",
       "    <tr>\n",
       "      <th>3</th>\n",
       "      <td>forIRmVTLqUJ</td>\n",
       "      <td>Eigenvectorsand functions of the discrete Four...</td>\n",
       "      <td>https://ieeexplore.ieee.org/abstract/document/...</td>\n",
       "      <td>['B Dickinson', ' K Steiglitz']</td>\n",
       "      <td>… no difficulty in finding a complete set of r...</td>\n",
       "      <td>ieeexplore.ieee.org</td>\n",
       "      <td>290</td>\n",
       "      <td>/scholar?cites=11902542559631149694&amp;as_sdt=200...</td>\n",
       "      <td>1982</td>\n",
       "    </tr>\n",
       "    <tr>\n",
       "      <th>4</th>\n",
       "      <td>ythuIw5g--IJ</td>\n",
       "      <td>Properties of theeigenvectorsof persymmetric m...</td>\n",
       "      <td>https://ieeexplore.ieee.org/abstract/document/...</td>\n",
       "      <td>['A Cantoni', ' P Butler']</td>\n",
       "      <td>… There have been a number of problems whose s...</td>\n",
       "      <td>ieeexplore.ieee.org</td>\n",
       "      <td>131</td>\n",
       "      <td>/scholar?cites=16355772085566363850&amp;as_sdt=200...</td>\n",
       "      <td>1976</td>\n",
       "    </tr>\n",
       "  </tbody>\n",
       "</table>\n",
       "</div>"
      ],
      "text/plain": [
       "            UID                                              Title  \\\n",
       "0  2DMqugwNW9oJ  A new concept of eigenvalues andeigenvectorsan...   \n",
       "1  zzpzALD37SQJ  Eigenvectorcentrality and itsapplicationin res...   \n",
       "2  SVmjfYkcXxUJ                  Commoneigenvectorsof two matrices   \n",
       "3  forIRmVTLqUJ  Eigenvectorsand functions of the discrete Four...   \n",
       "4  ythuIw5g--IJ  Properties of theeigenvectorsof persymmetric m...   \n",
       "\n",
       "                                        Article_Link  \\\n",
       "0  https://ieeexplore.ieee.org/abstract/document/...   \n",
       "1  https://ieeexplore.ieee.org/abstract/document/...   \n",
       "2  https://www.sciencedirect.com/science/article/...   \n",
       "3  https://ieeexplore.ieee.org/abstract/document/...   \n",
       "4  https://ieeexplore.ieee.org/abstract/document/...   \n",
       "\n",
       "                           Authors  \\\n",
       "0                        ['MY Wu']   \n",
       "1       ['A Bihari', ' MK Pandia']   \n",
       "2                    ['D Shemesh']   \n",
       "3  ['B Dickinson', ' K Steiglitz']   \n",
       "4       ['A Cantoni', ' P Butler']   \n",
       "\n",
       "                                            Abstract          Publication  \\\n",
       "0  … The purpose of this correspondence is to int...  ieeexplore.ieee.org   \n",
       "1  … discusseigenvectorcentrality and itsapplicat...  ieeexplore.ieee.org   \n",
       "2  … also aneigenvectorof B. We can restate this ...             Elsevier   \n",
       "3  … no difficulty in finding a complete set of r...  ieeexplore.ieee.org   \n",
       "4  … There have been a number of problems whose s...  ieeexplore.ieee.org   \n",
       "\n",
       "   Num_citation                                       Cited_by_url  \\\n",
       "0            68  /scholar?cites=15734184071463056344&as_sdt=200...   \n",
       "1            65  /scholar?cites=2661055290139687631&as_sdt=2005...   \n",
       "2           118  /scholar?cites=1539980974427953481&as_sdt=2005...   \n",
       "3           290  /scholar?cites=11902542559631149694&as_sdt=200...   \n",
       "4           131  /scholar?cites=16355772085566363850&as_sdt=200...   \n",
       "\n",
       "   Published_Year  \n",
       "0            1980  \n",
       "1            2015  \n",
       "2            1984  \n",
       "3            1982  \n",
       "4            1976  "
      ]
     },
     "execution_count": 3,
     "metadata": {},
     "output_type": "execute_result"
    }
   ],
   "source": [
    "df.head()"
   ]
  },
  {
   "cell_type": "markdown",
   "metadata": {},
   "source": [
    "**Yearwise publication**"
   ]
  },
  {
   "cell_type": "code",
   "execution_count": 4,
   "metadata": {},
   "outputs": [],
   "source": [
    "df_year = df[['UID',\"Title\",\"Num_citation\",\"Published_Year\"]]"
   ]
  },
  {
   "cell_type": "code",
   "execution_count": 5,
   "metadata": {},
   "outputs": [
    {
     "data": {
      "text/html": [
       "<div>\n",
       "<style scoped>\n",
       "    .dataframe tbody tr th:only-of-type {\n",
       "        vertical-align: middle;\n",
       "    }\n",
       "\n",
       "    .dataframe tbody tr th {\n",
       "        vertical-align: top;\n",
       "    }\n",
       "\n",
       "    .dataframe thead th {\n",
       "        text-align: right;\n",
       "    }\n",
       "</style>\n",
       "<table border=\"1\" class=\"dataframe\">\n",
       "  <thead>\n",
       "    <tr style=\"text-align: right;\">\n",
       "      <th></th>\n",
       "      <th>UID</th>\n",
       "      <th>Title</th>\n",
       "      <th>Num_citation</th>\n",
       "      <th>Published_Year</th>\n",
       "    </tr>\n",
       "  </thead>\n",
       "  <tbody>\n",
       "    <tr>\n",
       "      <th>525</th>\n",
       "      <td>naoK1Cq_3FEJ</td>\n",
       "      <td>Uncertainties of predictions from parton distr...</td>\n",
       "      <td>756</td>\n",
       "      <td>2001</td>\n",
       "    </tr>\n",
       "    <tr>\n",
       "      <th>526</th>\n",
       "      <td>atsNrdOs0zgJ</td>\n",
       "      <td>Revisiting the BLUE in a linear model via prop...</td>\n",
       "      <td>4</td>\n",
       "      <td>2013</td>\n",
       "    </tr>\n",
       "    <tr>\n",
       "      <th>527</th>\n",
       "      <td>uYQBVGyVP1AJ</td>\n",
       "      <td>Acceleratingeigenvectorcomputations for invers...</td>\n",
       "      <td>1</td>\n",
       "      <td>1996</td>\n",
       "    </tr>\n",
       "    <tr>\n",
       "      <th>528</th>\n",
       "      <td>azZcTBl7WgEJ</td>\n",
       "      <td>Spectral partitioning works: Planar graphs and...</td>\n",
       "      <td>260</td>\n",
       "      <td>2007</td>\n",
       "    </tr>\n",
       "    <tr>\n",
       "      <th>529</th>\n",
       "      <td>2-p2LwPlhoUJ</td>\n",
       "      <td>Semiclassical Gaussian basis set method for mo...</td>\n",
       "      <td>313</td>\n",
       "      <td>1979</td>\n",
       "    </tr>\n",
       "  </tbody>\n",
       "</table>\n",
       "</div>"
      ],
      "text/plain": [
       "              UID                                              Title  \\\n",
       "525  naoK1Cq_3FEJ  Uncertainties of predictions from parton distr...   \n",
       "526  atsNrdOs0zgJ  Revisiting the BLUE in a linear model via prop...   \n",
       "527  uYQBVGyVP1AJ  Acceleratingeigenvectorcomputations for invers...   \n",
       "528  azZcTBl7WgEJ  Spectral partitioning works: Planar graphs and...   \n",
       "529  2-p2LwPlhoUJ  Semiclassical Gaussian basis set method for mo...   \n",
       "\n",
       "     Num_citation  Published_Year  \n",
       "525           756            2001  \n",
       "526             4            2013  \n",
       "527             1            1996  \n",
       "528           260            2007  \n",
       "529           313            1979  "
      ]
     },
     "execution_count": 5,
     "metadata": {},
     "output_type": "execute_result"
    }
   ],
   "source": [
    "df_year.tail()"
   ]
  },
  {
   "cell_type": "code",
   "execution_count": 6,
   "metadata": {},
   "outputs": [
    {
     "name": "stdout",
     "output_type": "stream",
     "text": [
      "Published_Year\n",
      "1958     1\n",
      "1961     1\n",
      "1962     1\n",
      "1963     1\n",
      "1966     1\n",
      "        ..\n",
      "2020    17\n",
      "2021    20\n",
      "2022    19\n",
      "2023    12\n",
      "2024     1\n",
      "Name: count, Length: 61, dtype: int64\n"
     ]
    }
   ],
   "source": [
    "# Count unique values in 'Published_Year' column\n",
    "year_counts = df_year['Published_Year'].value_counts().sort_index()\n",
    "year_counts = year_counts[1:]\n",
    "print(year_counts)"
   ]
  },
  {
   "cell_type": "code",
   "execution_count": 7,
   "metadata": {},
   "outputs": [],
   "source": [
    "import plotly.express as px"
   ]
  },
  {
   "cell_type": "code",
   "execution_count": 8,
   "metadata": {},
   "outputs": [
    {
     "data": {
      "application/vnd.plotly.v1+json": {
       "config": {
        "plotlyServerURL": "https://plot.ly"
       },
       "data": [
        {
         "alignmentgroup": "True",
         "hovertemplate": "Published Year=%{x}<br>Count=%{y}<extra></extra>",
         "legendgroup": "",
         "marker": {
          "color": "#636efa",
          "pattern": {
           "shape": ""
          }
         },
         "name": "",
         "offsetgroup": "",
         "orientation": "v",
         "showlegend": false,
         "textposition": "auto",
         "type": "bar",
         "x": [
          1958,
          1961,
          1962,
          1963,
          1966,
          1968,
          1969,
          1970,
          1972,
          1973,
          1974,
          1975,
          1976,
          1977,
          1978,
          1979,
          1980,
          1981,
          1982,
          1983,
          1984,
          1985,
          1986,
          1987,
          1988,
          1989,
          1990,
          1991,
          1992,
          1993,
          1994,
          1995,
          1996,
          1997,
          1998,
          1999,
          2000,
          2001,
          2002,
          2003,
          2004,
          2005,
          2006,
          2007,
          2008,
          2009,
          2010,
          2011,
          2012,
          2013,
          2014,
          2015,
          2016,
          2017,
          2018,
          2019,
          2020,
          2021,
          2022,
          2023,
          2024
         ],
         "xaxis": "x",
         "y": [
          1,
          1,
          1,
          1,
          1,
          1,
          1,
          4,
          3,
          5,
          2,
          2,
          4,
          1,
          1,
          7,
          4,
          4,
          6,
          1,
          8,
          3,
          1,
          7,
          8,
          7,
          11,
          10,
          6,
          8,
          3,
          9,
          8,
          10,
          8,
          6,
          14,
          8,
          8,
          3,
          14,
          12,
          14,
          14,
          14,
          16,
          22,
          17,
          12,
          13,
          17,
          16,
          19,
          18,
          22,
          23,
          17,
          20,
          19,
          12,
          1
         ],
         "yaxis": "y"
        }
       ],
       "layout": {
        "barmode": "relative",
        "legend": {
         "tracegroupgap": 0
        },
        "margin": {
         "t": 60
        },
        "template": {
         "data": {
          "bar": [
           {
            "error_x": {
             "color": "#2a3f5f"
            },
            "error_y": {
             "color": "#2a3f5f"
            },
            "marker": {
             "line": {
              "color": "#E5ECF6",
              "width": 0.5
             },
             "pattern": {
              "fillmode": "overlay",
              "size": 10,
              "solidity": 0.2
             }
            },
            "type": "bar"
           }
          ],
          "barpolar": [
           {
            "marker": {
             "line": {
              "color": "#E5ECF6",
              "width": 0.5
             },
             "pattern": {
              "fillmode": "overlay",
              "size": 10,
              "solidity": 0.2
             }
            },
            "type": "barpolar"
           }
          ],
          "carpet": [
           {
            "aaxis": {
             "endlinecolor": "#2a3f5f",
             "gridcolor": "white",
             "linecolor": "white",
             "minorgridcolor": "white",
             "startlinecolor": "#2a3f5f"
            },
            "baxis": {
             "endlinecolor": "#2a3f5f",
             "gridcolor": "white",
             "linecolor": "white",
             "minorgridcolor": "white",
             "startlinecolor": "#2a3f5f"
            },
            "type": "carpet"
           }
          ],
          "choropleth": [
           {
            "colorbar": {
             "outlinewidth": 0,
             "ticks": ""
            },
            "type": "choropleth"
           }
          ],
          "contour": [
           {
            "colorbar": {
             "outlinewidth": 0,
             "ticks": ""
            },
            "colorscale": [
             [
              0,
              "#0d0887"
             ],
             [
              0.1111111111111111,
              "#46039f"
             ],
             [
              0.2222222222222222,
              "#7201a8"
             ],
             [
              0.3333333333333333,
              "#9c179e"
             ],
             [
              0.4444444444444444,
              "#bd3786"
             ],
             [
              0.5555555555555556,
              "#d8576b"
             ],
             [
              0.6666666666666666,
              "#ed7953"
             ],
             [
              0.7777777777777778,
              "#fb9f3a"
             ],
             [
              0.8888888888888888,
              "#fdca26"
             ],
             [
              1,
              "#f0f921"
             ]
            ],
            "type": "contour"
           }
          ],
          "contourcarpet": [
           {
            "colorbar": {
             "outlinewidth": 0,
             "ticks": ""
            },
            "type": "contourcarpet"
           }
          ],
          "heatmap": [
           {
            "colorbar": {
             "outlinewidth": 0,
             "ticks": ""
            },
            "colorscale": [
             [
              0,
              "#0d0887"
             ],
             [
              0.1111111111111111,
              "#46039f"
             ],
             [
              0.2222222222222222,
              "#7201a8"
             ],
             [
              0.3333333333333333,
              "#9c179e"
             ],
             [
              0.4444444444444444,
              "#bd3786"
             ],
             [
              0.5555555555555556,
              "#d8576b"
             ],
             [
              0.6666666666666666,
              "#ed7953"
             ],
             [
              0.7777777777777778,
              "#fb9f3a"
             ],
             [
              0.8888888888888888,
              "#fdca26"
             ],
             [
              1,
              "#f0f921"
             ]
            ],
            "type": "heatmap"
           }
          ],
          "heatmapgl": [
           {
            "colorbar": {
             "outlinewidth": 0,
             "ticks": ""
            },
            "colorscale": [
             [
              0,
              "#0d0887"
             ],
             [
              0.1111111111111111,
              "#46039f"
             ],
             [
              0.2222222222222222,
              "#7201a8"
             ],
             [
              0.3333333333333333,
              "#9c179e"
             ],
             [
              0.4444444444444444,
              "#bd3786"
             ],
             [
              0.5555555555555556,
              "#d8576b"
             ],
             [
              0.6666666666666666,
              "#ed7953"
             ],
             [
              0.7777777777777778,
              "#fb9f3a"
             ],
             [
              0.8888888888888888,
              "#fdca26"
             ],
             [
              1,
              "#f0f921"
             ]
            ],
            "type": "heatmapgl"
           }
          ],
          "histogram": [
           {
            "marker": {
             "pattern": {
              "fillmode": "overlay",
              "size": 10,
              "solidity": 0.2
             }
            },
            "type": "histogram"
           }
          ],
          "histogram2d": [
           {
            "colorbar": {
             "outlinewidth": 0,
             "ticks": ""
            },
            "colorscale": [
             [
              0,
              "#0d0887"
             ],
             [
              0.1111111111111111,
              "#46039f"
             ],
             [
              0.2222222222222222,
              "#7201a8"
             ],
             [
              0.3333333333333333,
              "#9c179e"
             ],
             [
              0.4444444444444444,
              "#bd3786"
             ],
             [
              0.5555555555555556,
              "#d8576b"
             ],
             [
              0.6666666666666666,
              "#ed7953"
             ],
             [
              0.7777777777777778,
              "#fb9f3a"
             ],
             [
              0.8888888888888888,
              "#fdca26"
             ],
             [
              1,
              "#f0f921"
             ]
            ],
            "type": "histogram2d"
           }
          ],
          "histogram2dcontour": [
           {
            "colorbar": {
             "outlinewidth": 0,
             "ticks": ""
            },
            "colorscale": [
             [
              0,
              "#0d0887"
             ],
             [
              0.1111111111111111,
              "#46039f"
             ],
             [
              0.2222222222222222,
              "#7201a8"
             ],
             [
              0.3333333333333333,
              "#9c179e"
             ],
             [
              0.4444444444444444,
              "#bd3786"
             ],
             [
              0.5555555555555556,
              "#d8576b"
             ],
             [
              0.6666666666666666,
              "#ed7953"
             ],
             [
              0.7777777777777778,
              "#fb9f3a"
             ],
             [
              0.8888888888888888,
              "#fdca26"
             ],
             [
              1,
              "#f0f921"
             ]
            ],
            "type": "histogram2dcontour"
           }
          ],
          "mesh3d": [
           {
            "colorbar": {
             "outlinewidth": 0,
             "ticks": ""
            },
            "type": "mesh3d"
           }
          ],
          "parcoords": [
           {
            "line": {
             "colorbar": {
              "outlinewidth": 0,
              "ticks": ""
             }
            },
            "type": "parcoords"
           }
          ],
          "pie": [
           {
            "automargin": true,
            "type": "pie"
           }
          ],
          "scatter": [
           {
            "fillpattern": {
             "fillmode": "overlay",
             "size": 10,
             "solidity": 0.2
            },
            "type": "scatter"
           }
          ],
          "scatter3d": [
           {
            "line": {
             "colorbar": {
              "outlinewidth": 0,
              "ticks": ""
             }
            },
            "marker": {
             "colorbar": {
              "outlinewidth": 0,
              "ticks": ""
             }
            },
            "type": "scatter3d"
           }
          ],
          "scattercarpet": [
           {
            "marker": {
             "colorbar": {
              "outlinewidth": 0,
              "ticks": ""
             }
            },
            "type": "scattercarpet"
           }
          ],
          "scattergeo": [
           {
            "marker": {
             "colorbar": {
              "outlinewidth": 0,
              "ticks": ""
             }
            },
            "type": "scattergeo"
           }
          ],
          "scattergl": [
           {
            "marker": {
             "colorbar": {
              "outlinewidth": 0,
              "ticks": ""
             }
            },
            "type": "scattergl"
           }
          ],
          "scattermapbox": [
           {
            "marker": {
             "colorbar": {
              "outlinewidth": 0,
              "ticks": ""
             }
            },
            "type": "scattermapbox"
           }
          ],
          "scatterpolar": [
           {
            "marker": {
             "colorbar": {
              "outlinewidth": 0,
              "ticks": ""
             }
            },
            "type": "scatterpolar"
           }
          ],
          "scatterpolargl": [
           {
            "marker": {
             "colorbar": {
              "outlinewidth": 0,
              "ticks": ""
             }
            },
            "type": "scatterpolargl"
           }
          ],
          "scatterternary": [
           {
            "marker": {
             "colorbar": {
              "outlinewidth": 0,
              "ticks": ""
             }
            },
            "type": "scatterternary"
           }
          ],
          "surface": [
           {
            "colorbar": {
             "outlinewidth": 0,
             "ticks": ""
            },
            "colorscale": [
             [
              0,
              "#0d0887"
             ],
             [
              0.1111111111111111,
              "#46039f"
             ],
             [
              0.2222222222222222,
              "#7201a8"
             ],
             [
              0.3333333333333333,
              "#9c179e"
             ],
             [
              0.4444444444444444,
              "#bd3786"
             ],
             [
              0.5555555555555556,
              "#d8576b"
             ],
             [
              0.6666666666666666,
              "#ed7953"
             ],
             [
              0.7777777777777778,
              "#fb9f3a"
             ],
             [
              0.8888888888888888,
              "#fdca26"
             ],
             [
              1,
              "#f0f921"
             ]
            ],
            "type": "surface"
           }
          ],
          "table": [
           {
            "cells": {
             "fill": {
              "color": "#EBF0F8"
             },
             "line": {
              "color": "white"
             }
            },
            "header": {
             "fill": {
              "color": "#C8D4E3"
             },
             "line": {
              "color": "white"
             }
            },
            "type": "table"
           }
          ]
         },
         "layout": {
          "annotationdefaults": {
           "arrowcolor": "#2a3f5f",
           "arrowhead": 0,
           "arrowwidth": 1
          },
          "autotypenumbers": "strict",
          "coloraxis": {
           "colorbar": {
            "outlinewidth": 0,
            "ticks": ""
           }
          },
          "colorscale": {
           "diverging": [
            [
             0,
             "#8e0152"
            ],
            [
             0.1,
             "#c51b7d"
            ],
            [
             0.2,
             "#de77ae"
            ],
            [
             0.3,
             "#f1b6da"
            ],
            [
             0.4,
             "#fde0ef"
            ],
            [
             0.5,
             "#f7f7f7"
            ],
            [
             0.6,
             "#e6f5d0"
            ],
            [
             0.7,
             "#b8e186"
            ],
            [
             0.8,
             "#7fbc41"
            ],
            [
             0.9,
             "#4d9221"
            ],
            [
             1,
             "#276419"
            ]
           ],
           "sequential": [
            [
             0,
             "#0d0887"
            ],
            [
             0.1111111111111111,
             "#46039f"
            ],
            [
             0.2222222222222222,
             "#7201a8"
            ],
            [
             0.3333333333333333,
             "#9c179e"
            ],
            [
             0.4444444444444444,
             "#bd3786"
            ],
            [
             0.5555555555555556,
             "#d8576b"
            ],
            [
             0.6666666666666666,
             "#ed7953"
            ],
            [
             0.7777777777777778,
             "#fb9f3a"
            ],
            [
             0.8888888888888888,
             "#fdca26"
            ],
            [
             1,
             "#f0f921"
            ]
           ],
           "sequentialminus": [
            [
             0,
             "#0d0887"
            ],
            [
             0.1111111111111111,
             "#46039f"
            ],
            [
             0.2222222222222222,
             "#7201a8"
            ],
            [
             0.3333333333333333,
             "#9c179e"
            ],
            [
             0.4444444444444444,
             "#bd3786"
            ],
            [
             0.5555555555555556,
             "#d8576b"
            ],
            [
             0.6666666666666666,
             "#ed7953"
            ],
            [
             0.7777777777777778,
             "#fb9f3a"
            ],
            [
             0.8888888888888888,
             "#fdca26"
            ],
            [
             1,
             "#f0f921"
            ]
           ]
          },
          "colorway": [
           "#636efa",
           "#EF553B",
           "#00cc96",
           "#ab63fa",
           "#FFA15A",
           "#19d3f3",
           "#FF6692",
           "#B6E880",
           "#FF97FF",
           "#FECB52"
          ],
          "font": {
           "color": "#2a3f5f"
          },
          "geo": {
           "bgcolor": "white",
           "lakecolor": "white",
           "landcolor": "#E5ECF6",
           "showlakes": true,
           "showland": true,
           "subunitcolor": "white"
          },
          "hoverlabel": {
           "align": "left"
          },
          "hovermode": "closest",
          "mapbox": {
           "style": "light"
          },
          "paper_bgcolor": "white",
          "plot_bgcolor": "#E5ECF6",
          "polar": {
           "angularaxis": {
            "gridcolor": "white",
            "linecolor": "white",
            "ticks": ""
           },
           "bgcolor": "#E5ECF6",
           "radialaxis": {
            "gridcolor": "white",
            "linecolor": "white",
            "ticks": ""
           }
          },
          "scene": {
           "xaxis": {
            "backgroundcolor": "#E5ECF6",
            "gridcolor": "white",
            "gridwidth": 2,
            "linecolor": "white",
            "showbackground": true,
            "ticks": "",
            "zerolinecolor": "white"
           },
           "yaxis": {
            "backgroundcolor": "#E5ECF6",
            "gridcolor": "white",
            "gridwidth": 2,
            "linecolor": "white",
            "showbackground": true,
            "ticks": "",
            "zerolinecolor": "white"
           },
           "zaxis": {
            "backgroundcolor": "#E5ECF6",
            "gridcolor": "white",
            "gridwidth": 2,
            "linecolor": "white",
            "showbackground": true,
            "ticks": "",
            "zerolinecolor": "white"
           }
          },
          "shapedefaults": {
           "line": {
            "color": "#2a3f5f"
           }
          },
          "ternary": {
           "aaxis": {
            "gridcolor": "white",
            "linecolor": "white",
            "ticks": ""
           },
           "baxis": {
            "gridcolor": "white",
            "linecolor": "white",
            "ticks": ""
           },
           "bgcolor": "#E5ECF6",
           "caxis": {
            "gridcolor": "white",
            "linecolor": "white",
            "ticks": ""
           }
          },
          "title": {
           "x": 0.05
          },
          "xaxis": {
           "automargin": true,
           "gridcolor": "white",
           "linecolor": "white",
           "ticks": "",
           "title": {
            "standoff": 15
           },
           "zerolinecolor": "white",
           "zerolinewidth": 2
          },
          "yaxis": {
           "automargin": true,
           "gridcolor": "white",
           "linecolor": "white",
           "ticks": "",
           "title": {
            "standoff": 15
           },
           "zerolinecolor": "white",
           "zerolinewidth": 2
          }
         }
        },
        "title": {
         "text": "Number of Publications by Year"
        },
        "xaxis": {
         "anchor": "y",
         "domain": [
          0,
          1
         ],
         "title": {
          "text": "Published Year"
         }
        },
        "yaxis": {
         "anchor": "x",
         "domain": [
          0,
          1
         ],
         "title": {
          "text": "Count"
         }
        }
       }
      }
     },
     "metadata": {},
     "output_type": "display_data"
    }
   ],
   "source": [
    "# Create a bar chart using Plotly\n",
    "fig = px.bar(x=year_counts.index, y=year_counts.values, labels={'x': 'Published Year', 'y': 'Count'})\n",
    "fig.update_layout(title='Number of Publications by Year', xaxis_title='Published Year', yaxis_title='Count')\n",
    "fig.show()"
   ]
  },
  {
   "cell_type": "markdown",
   "metadata": {},
   "source": [
    "**Oldest paper**"
   ]
  },
  {
   "cell_type": "code",
   "execution_count": 9,
   "metadata": {},
   "outputs": [
    {
     "name": "stdout",
     "output_type": "stream",
     "text": [
      "Title of the oldest paper: The calculation of theeigenvectorsof codiagonal matrices\n"
     ]
    }
   ],
   "source": [
    "# Sort the DataFrame by 'Published_Year' in ascending order\n",
    "oldest_paper = df_year.sort_values('Published_Year').iloc[1]\n",
    "\n",
    "# Get the title of the oldest paper\n",
    "oldest_paper_title = oldest_paper['Title']\n",
    "\n",
    "print(\"Title of the oldest paper:\", oldest_paper_title)"
   ]
  },
  {
   "cell_type": "markdown",
   "metadata": {},
   "source": [
    "**Most cited article each year**"
   ]
  },
  {
   "cell_type": "code",
   "execution_count": 11,
   "metadata": {},
   "outputs": [
    {
     "data": {
      "text/html": [
       "<div>\n",
       "<style scoped>\n",
       "    .dataframe tbody tr th:only-of-type {\n",
       "        vertical-align: middle;\n",
       "    }\n",
       "\n",
       "    .dataframe tbody tr th {\n",
       "        vertical-align: top;\n",
       "    }\n",
       "\n",
       "    .dataframe thead th {\n",
       "        text-align: right;\n",
       "    }\n",
       "</style>\n",
       "<table border=\"1\" class=\"dataframe\">\n",
       "  <thead>\n",
       "    <tr style=\"text-align: right;\">\n",
       "      <th></th>\n",
       "      <th>Published_Year</th>\n",
       "      <th>Title</th>\n",
       "      <th>Num_citation</th>\n",
       "    </tr>\n",
       "  </thead>\n",
       "  <tbody>\n",
       "    <tr>\n",
       "      <th>300</th>\n",
       "      <td>1953</td>\n",
       "      <td>Computing eigenvalues andeigenvectorsof a symm...</td>\n",
       "      <td>58</td>\n",
       "    </tr>\n",
       "    <tr>\n",
       "      <th>391</th>\n",
       "      <td>1958</td>\n",
       "      <td>The calculation of theeigenvectorsof codiagona...</td>\n",
       "      <td>141</td>\n",
       "    </tr>\n",
       "    <tr>\n",
       "      <th>358</th>\n",
       "      <td>1961</td>\n",
       "      <td>Remarks on the continued fraction calculation ...</td>\n",
       "      <td>39</td>\n",
       "    </tr>\n",
       "    <tr>\n",
       "      <th>480</th>\n",
       "      <td>1962</td>\n",
       "      <td>[PDF][PDF]Organization of a``Fixed-Plus-Variab...</td>\n",
       "      <td>54</td>\n",
       "    </tr>\n",
       "    <tr>\n",
       "      <th>429</th>\n",
       "      <td>1963</td>\n",
       "      <td>Weakeigenvectorsand the functional calculus</td>\n",
       "      <td>2</td>\n",
       "    </tr>\n",
       "    <tr>\n",
       "      <th>...</th>\n",
       "      <td>...</td>\n",
       "      <td>...</td>\n",
       "      <td>...</td>\n",
       "    </tr>\n",
       "    <tr>\n",
       "      <th>178</th>\n",
       "      <td>2020</td>\n",
       "      <td>[HTML][HTML]Entrywiseeigenvectoranalysis of ra...</td>\n",
       "      <td>286</td>\n",
       "    </tr>\n",
       "    <tr>\n",
       "      <th>89</th>\n",
       "      <td>2021</td>\n",
       "      <td>Convergence ofeigenvectorcontinuation</td>\n",
       "      <td>45</td>\n",
       "    </tr>\n",
       "    <tr>\n",
       "      <th>271</th>\n",
       "      <td>2022</td>\n",
       "      <td>Eigenvectorsfrom eigenvalues: A survey of a ba...</td>\n",
       "      <td>120</td>\n",
       "    </tr>\n",
       "    <tr>\n",
       "      <th>26</th>\n",
       "      <td>2023</td>\n",
       "      <td>EigenvectorContinuation and Projection-Based E...</td>\n",
       "      <td>6</td>\n",
       "    </tr>\n",
       "    <tr>\n",
       "      <th>501</th>\n",
       "      <td>2024</td>\n",
       "      <td>Variational Characterization of Monotone Nonli...</td>\n",
       "      <td>1</td>\n",
       "    </tr>\n",
       "  </tbody>\n",
       "</table>\n",
       "<p>62 rows × 3 columns</p>\n",
       "</div>"
      ],
      "text/plain": [
       "     Published_Year                                              Title  \\\n",
       "300            1953  Computing eigenvalues andeigenvectorsof a symm...   \n",
       "391            1958  The calculation of theeigenvectorsof codiagona...   \n",
       "358            1961  Remarks on the continued fraction calculation ...   \n",
       "480            1962  [PDF][PDF]Organization of a``Fixed-Plus-Variab...   \n",
       "429            1963        Weakeigenvectorsand the functional calculus   \n",
       "..              ...                                                ...   \n",
       "178            2020  [HTML][HTML]Entrywiseeigenvectoranalysis of ra...   \n",
       "89             2021              Convergence ofeigenvectorcontinuation   \n",
       "271            2022  Eigenvectorsfrom eigenvalues: A survey of a ba...   \n",
       "26             2023  EigenvectorContinuation and Projection-Based E...   \n",
       "501            2024  Variational Characterization of Monotone Nonli...   \n",
       "\n",
       "     Num_citation  \n",
       "300            58  \n",
       "391           141  \n",
       "358            39  \n",
       "480            54  \n",
       "429             2  \n",
       "..            ...  \n",
       "178           286  \n",
       "89             45  \n",
       "271           120  \n",
       "26              6  \n",
       "501             1  \n",
       "\n",
       "[62 rows x 3 columns]"
      ]
     },
     "execution_count": 11,
     "metadata": {},
     "output_type": "execute_result"
    }
   ],
   "source": [
    "# Get the index of the rows with the highest 'Num_citation' for each unique 'Published_Year'\n",
    "idx = df_year.groupby('Published_Year')['Num_citation'].idxmax()\n",
    "\n",
    "# Filter the DataFrame using the obtained index values\n",
    "articles_with_highest_citation = df_year.loc[idx]\n",
    "\n",
    "# Display the titles of articles with the highest citation for each unique year\n",
    "articles_with_highest_citation[['Published_Year', 'Title','Num_citation']]"
   ]
  },
  {
   "cell_type": "code",
   "execution_count": 12,
   "metadata": {},
   "outputs": [
    {
     "data": {
      "text/html": [
       "<div>\n",
       "<style scoped>\n",
       "    .dataframe tbody tr th:only-of-type {\n",
       "        vertical-align: middle;\n",
       "    }\n",
       "\n",
       "    .dataframe tbody tr th {\n",
       "        vertical-align: top;\n",
       "    }\n",
       "\n",
       "    .dataframe thead th {\n",
       "        text-align: right;\n",
       "    }\n",
       "</style>\n",
       "<table border=\"1\" class=\"dataframe\">\n",
       "  <thead>\n",
       "    <tr style=\"text-align: right;\">\n",
       "      <th></th>\n",
       "      <th>Published_Year</th>\n",
       "      <th>Title</th>\n",
       "      <th>Num_citation</th>\n",
       "    </tr>\n",
       "  </thead>\n",
       "  <tbody>\n",
       "    <tr>\n",
       "      <th>300</th>\n",
       "      <td>1953</td>\n",
       "      <td>Computing eigenvalues andeigenvectorsof a symm...</td>\n",
       "      <td>58</td>\n",
       "    </tr>\n",
       "    <tr>\n",
       "      <th>391</th>\n",
       "      <td>1958</td>\n",
       "      <td>The calculation of theeigenvectorsof codiagona...</td>\n",
       "      <td>141</td>\n",
       "    </tr>\n",
       "    <tr>\n",
       "      <th>358</th>\n",
       "      <td>1961</td>\n",
       "      <td>Remarks on the continued fraction calculation ...</td>\n",
       "      <td>39</td>\n",
       "    </tr>\n",
       "    <tr>\n",
       "      <th>480</th>\n",
       "      <td>1962</td>\n",
       "      <td>[PDF][PDF]Organization of a``Fixed-Plus-Variab...</td>\n",
       "      <td>54</td>\n",
       "    </tr>\n",
       "    <tr>\n",
       "      <th>429</th>\n",
       "      <td>1963</td>\n",
       "      <td>Weakeigenvectorsand the functional calculus</td>\n",
       "      <td>2</td>\n",
       "    </tr>\n",
       "    <tr>\n",
       "      <th>...</th>\n",
       "      <td>...</td>\n",
       "      <td>...</td>\n",
       "      <td>...</td>\n",
       "    </tr>\n",
       "    <tr>\n",
       "      <th>178</th>\n",
       "      <td>2020</td>\n",
       "      <td>[HTML][HTML]Entrywiseeigenvectoranalysis of ra...</td>\n",
       "      <td>286</td>\n",
       "    </tr>\n",
       "    <tr>\n",
       "      <th>89</th>\n",
       "      <td>2021</td>\n",
       "      <td>Convergence ofeigenvectorcontinuation</td>\n",
       "      <td>45</td>\n",
       "    </tr>\n",
       "    <tr>\n",
       "      <th>271</th>\n",
       "      <td>2022</td>\n",
       "      <td>Eigenvectorsfrom eigenvalues: A survey of a ba...</td>\n",
       "      <td>120</td>\n",
       "    </tr>\n",
       "    <tr>\n",
       "      <th>26</th>\n",
       "      <td>2023</td>\n",
       "      <td>EigenvectorContinuation and Projection-Based E...</td>\n",
       "      <td>6</td>\n",
       "    </tr>\n",
       "    <tr>\n",
       "      <th>501</th>\n",
       "      <td>2024</td>\n",
       "      <td>Variational Characterization of Monotone Nonli...</td>\n",
       "      <td>1</td>\n",
       "    </tr>\n",
       "  </tbody>\n",
       "</table>\n",
       "<p>62 rows × 3 columns</p>\n",
       "</div>"
      ],
      "text/plain": [
       "     Published_Year                                              Title  \\\n",
       "300            1953  Computing eigenvalues andeigenvectorsof a symm...   \n",
       "391            1958  The calculation of theeigenvectorsof codiagona...   \n",
       "358            1961  Remarks on the continued fraction calculation ...   \n",
       "480            1962  [PDF][PDF]Organization of a``Fixed-Plus-Variab...   \n",
       "429            1963        Weakeigenvectorsand the functional calculus   \n",
       "..              ...                                                ...   \n",
       "178            2020  [HTML][HTML]Entrywiseeigenvectoranalysis of ra...   \n",
       "89             2021              Convergence ofeigenvectorcontinuation   \n",
       "271            2022  Eigenvectorsfrom eigenvalues: A survey of a ba...   \n",
       "26             2023  EigenvectorContinuation and Projection-Based E...   \n",
       "501            2024  Variational Characterization of Monotone Nonli...   \n",
       "\n",
       "     Num_citation  \n",
       "300            58  \n",
       "391           141  \n",
       "358            39  \n",
       "480            54  \n",
       "429             2  \n",
       "..            ...  \n",
       "178           286  \n",
       "89             45  \n",
       "271           120  \n",
       "26              6  \n",
       "501             1  \n",
       "\n",
       "[62 rows x 3 columns]"
      ]
     },
     "execution_count": 12,
     "metadata": {},
     "output_type": "execute_result"
    }
   ],
   "source": [
    "articles_with_highest_citation[['Published_Year', 'Title','Num_citation']]"
   ]
  },
  {
   "cell_type": "markdown",
   "metadata": {},
   "source": [
    "**Most cited article of the field**"
   ]
  },
  {
   "cell_type": "code",
   "execution_count": 13,
   "metadata": {},
   "outputs": [
    {
     "name": "stdout",
     "output_type": "stream",
     "text": [
      "Most Cited Article:\n",
      "Title: Modularity and community structure in networks\n",
      "Authors: ['MEJ Newman']\n",
      "Num_citation: 13555\n",
      "Published_Year: 2006\n"
     ]
    }
   ],
   "source": [
    "# Find the index of the row with the highest 'Num_citation'\n",
    "most_cited_idx = df['Num_citation'].idxmax()\n",
    "\n",
    "# Get the most cited article using the index\n",
    "most_cited_article = df.loc[most_cited_idx]\n",
    "\n",
    "# Display the most cited article's information\n",
    "print(\"Most Cited Article:\")\n",
    "print(\"Title:\", most_cited_article['Title'])\n",
    "print(\"Authors:\", most_cited_article['Authors'])\n",
    "print(\"Num_citation:\", most_cited_article['Num_citation'])\n",
    "print(\"Published_Year:\", most_cited_article['Published_Year'])"
   ]
  },
  {
   "cell_type": "markdown",
   "metadata": {},
   "source": [
    "**Top 10 authors in the field (by number of publications)**"
   ]
  },
  {
   "cell_type": "code",
   "execution_count": 14,
   "metadata": {},
   "outputs": [
    {
     "data": {
      "text/plain": [
       "str"
      ]
     },
     "execution_count": 14,
     "metadata": {},
     "output_type": "execute_result"
    }
   ],
   "source": [
    "type(df['Authors'][0])"
   ]
  },
  {
   "cell_type": "code",
   "execution_count": 15,
   "metadata": {},
   "outputs": [],
   "source": [
    "#converting str to list\n",
    "import ast\n",
    "df['Authors'] = df['Authors'].apply(ast.literal_eval)"
   ]
  },
  {
   "cell_type": "code",
   "execution_count": 16,
   "metadata": {},
   "outputs": [],
   "source": [
    "df_authors = df[['UID','Title','Authors','Publication','Num_citation','Published_Year']]"
   ]
  },
  {
   "cell_type": "code",
   "execution_count": 17,
   "metadata": {},
   "outputs": [
    {
     "data": {
      "text/html": [
       "<div>\n",
       "<style scoped>\n",
       "    .dataframe tbody tr th:only-of-type {\n",
       "        vertical-align: middle;\n",
       "    }\n",
       "\n",
       "    .dataframe tbody tr th {\n",
       "        vertical-align: top;\n",
       "    }\n",
       "\n",
       "    .dataframe thead th {\n",
       "        text-align: right;\n",
       "    }\n",
       "</style>\n",
       "<table border=\"1\" class=\"dataframe\">\n",
       "  <thead>\n",
       "    <tr style=\"text-align: right;\">\n",
       "      <th></th>\n",
       "      <th>UID</th>\n",
       "      <th>Title</th>\n",
       "      <th>Authors</th>\n",
       "      <th>Publication</th>\n",
       "      <th>Num_citation</th>\n",
       "      <th>Published_Year</th>\n",
       "    </tr>\n",
       "  </thead>\n",
       "  <tbody>\n",
       "    <tr>\n",
       "      <th>0</th>\n",
       "      <td>2DMqugwNW9oJ</td>\n",
       "      <td>A new concept of eigenvalues andeigenvectorsan...</td>\n",
       "      <td>[MY Wu]</td>\n",
       "      <td>ieeexplore.ieee.org</td>\n",
       "      <td>68</td>\n",
       "      <td>1980</td>\n",
       "    </tr>\n",
       "    <tr>\n",
       "      <th>1</th>\n",
       "      <td>zzpzALD37SQJ</td>\n",
       "      <td>Eigenvectorcentrality and itsapplicationin res...</td>\n",
       "      <td>[A Bihari,  MK Pandia]</td>\n",
       "      <td>ieeexplore.ieee.org</td>\n",
       "      <td>65</td>\n",
       "      <td>2015</td>\n",
       "    </tr>\n",
       "    <tr>\n",
       "      <th>2</th>\n",
       "      <td>SVmjfYkcXxUJ</td>\n",
       "      <td>Commoneigenvectorsof two matrices</td>\n",
       "      <td>[D Shemesh]</td>\n",
       "      <td>Elsevier</td>\n",
       "      <td>118</td>\n",
       "      <td>1984</td>\n",
       "    </tr>\n",
       "    <tr>\n",
       "      <th>3</th>\n",
       "      <td>forIRmVTLqUJ</td>\n",
       "      <td>Eigenvectorsand functions of the discrete Four...</td>\n",
       "      <td>[B Dickinson,  K Steiglitz]</td>\n",
       "      <td>ieeexplore.ieee.org</td>\n",
       "      <td>290</td>\n",
       "      <td>1982</td>\n",
       "    </tr>\n",
       "    <tr>\n",
       "      <th>4</th>\n",
       "      <td>ythuIw5g--IJ</td>\n",
       "      <td>Properties of theeigenvectorsof persymmetric m...</td>\n",
       "      <td>[A Cantoni,  P Butler]</td>\n",
       "      <td>ieeexplore.ieee.org</td>\n",
       "      <td>131</td>\n",
       "      <td>1976</td>\n",
       "    </tr>\n",
       "  </tbody>\n",
       "</table>\n",
       "</div>"
      ],
      "text/plain": [
       "            UID                                              Title  \\\n",
       "0  2DMqugwNW9oJ  A new concept of eigenvalues andeigenvectorsan...   \n",
       "1  zzpzALD37SQJ  Eigenvectorcentrality and itsapplicationin res...   \n",
       "2  SVmjfYkcXxUJ                  Commoneigenvectorsof two matrices   \n",
       "3  forIRmVTLqUJ  Eigenvectorsand functions of the discrete Four...   \n",
       "4  ythuIw5g--IJ  Properties of theeigenvectorsof persymmetric m...   \n",
       "\n",
       "                       Authors          Publication  Num_citation  \\\n",
       "0                      [MY Wu]  ieeexplore.ieee.org            68   \n",
       "1       [A Bihari,  MK Pandia]  ieeexplore.ieee.org            65   \n",
       "2                  [D Shemesh]             Elsevier           118   \n",
       "3  [B Dickinson,  K Steiglitz]  ieeexplore.ieee.org           290   \n",
       "4       [A Cantoni,  P Butler]  ieeexplore.ieee.org           131   \n",
       "\n",
       "   Published_Year  \n",
       "0            1980  \n",
       "1            2015  \n",
       "2            1984  \n",
       "3            1982  \n",
       "4            1976  "
      ]
     },
     "execution_count": 17,
     "metadata": {},
     "output_type": "execute_result"
    }
   ],
   "source": [
    "df_authors.head()"
   ]
  },
  {
   "cell_type": "code",
   "execution_count": 18,
   "metadata": {},
   "outputs": [],
   "source": [
    "from collections import Counter"
   ]
  },
  {
   "cell_type": "code",
   "execution_count": 19,
   "metadata": {},
   "outputs": [],
   "source": [
    "# Flatten the list of authors\n",
    "authors_list = [author for sublist in df_authors['Authors'] for author in sublist]\n",
    "\n",
    "# Count the occurrences of each author\n",
    "author_counts = Counter(authors_list)\n",
    "\n",
    "# Get the top 10 authors\n",
    "top_10_authors = author_counts.most_common(10)\n"
   ]
  },
  {
   "cell_type": "code",
   "execution_count": 20,
   "metadata": {},
   "outputs": [
    {
     "data": {
      "text/plain": [
       "[('DA Griffith', 7),\n",
       " ('J Fan', 5),\n",
       " ('ED Übeyli', 5),\n",
       " ('MI Friswell', 5),\n",
       " ('AL Andrew', 4),\n",
       " ('M Cucuringu', 4),\n",
       " ('D Lee', 4),\n",
       " (' J Li', 4),\n",
       " ('SC Pei', 4),\n",
       " ('Y Zhong', 3)]"
      ]
     },
     "execution_count": 20,
     "metadata": {},
     "output_type": "execute_result"
    }
   ],
   "source": [
    "top_10_authors"
   ]
  },
  {
   "cell_type": "markdown",
   "metadata": {},
   "source": [
    "**Most common author by total_citation/total_publications**"
   ]
  },
  {
   "cell_type": "code",
   "execution_count": 21,
   "metadata": {},
   "outputs": [],
   "source": [
    "# Create a new DataFrame with each author and their article\n",
    "authors_df = pd.DataFrame({'Authors': [author for authors in df_authors['Authors'] for author in authors],\n",
    "                           'Num_citation': df_authors['Num_citation'].repeat(df_authors['Authors'].apply(len))})\n",
    "\n",
    "# Calculate the total citations and count of articles for each author\n",
    "author_stats = authors_df.groupby('Authors').agg({'Num_citation': 'sum', 'Authors': 'count'})\n",
    "\n",
    "# Calculate the average citations for each author\n",
    "author_stats['Average_citations'] = author_stats['Num_citation'] / author_stats['Authors']\n",
    "\n",
    "# Sort the authors based on average citations in descending order\n",
    "top_10_authors = author_stats.sort_values('Average_citations', ascending=False).head(10)\n"
   ]
  },
  {
   "cell_type": "code",
   "execution_count": 22,
   "metadata": {},
   "outputs": [
    {
     "data": {
      "text/html": [
       "<div>\n",
       "<style scoped>\n",
       "    .dataframe tbody tr th:only-of-type {\n",
       "        vertical-align: middle;\n",
       "    }\n",
       "\n",
       "    .dataframe tbody tr th {\n",
       "        vertical-align: top;\n",
       "    }\n",
       "\n",
       "    .dataframe thead th {\n",
       "        text-align: right;\n",
       "    }\n",
       "</style>\n",
       "<table border=\"1\" class=\"dataframe\">\n",
       "  <thead>\n",
       "    <tr style=\"text-align: right;\">\n",
       "      <th></th>\n",
       "      <th>Num_citation</th>\n",
       "      <th>Authors</th>\n",
       "      <th>Average_citations</th>\n",
       "    </tr>\n",
       "    <tr>\n",
       "      <th>Authors</th>\n",
       "      <th></th>\n",
       "      <th></th>\n",
       "      <th></th>\n",
       "    </tr>\n",
       "  </thead>\n",
       "  <tbody>\n",
       "    <tr>\n",
       "      <th>MEJ Newman</th>\n",
       "      <td>19271</td>\n",
       "      <td>2</td>\n",
       "      <td>9635.5</td>\n",
       "    </tr>\n",
       "    <tr>\n",
       "      <th>W Thomson</th>\n",
       "      <td>5468</td>\n",
       "      <td>1</td>\n",
       "      <td>5468.0</td>\n",
       "    </tr>\n",
       "    <tr>\n",
       "      <th>KP Liou</th>\n",
       "      <td>2484</td>\n",
       "      <td>1</td>\n",
       "      <td>2484.0</td>\n",
       "    </tr>\n",
       "    <tr>\n",
       "      <th>A Pothen</th>\n",
       "      <td>2484</td>\n",
       "      <td>1</td>\n",
       "      <td>2484.0</td>\n",
       "    </tr>\n",
       "    <tr>\n",
       "      <th>HD Simon</th>\n",
       "      <td>2484</td>\n",
       "      <td>1</td>\n",
       "      <td>2484.0</td>\n",
       "    </tr>\n",
       "    <tr>\n",
       "      <th>S Succi</th>\n",
       "      <td>2447</td>\n",
       "      <td>1</td>\n",
       "      <td>2447.0</td>\n",
       "    </tr>\n",
       "    <tr>\n",
       "      <th>R Benzi</th>\n",
       "      <td>2447</td>\n",
       "      <td>1</td>\n",
       "      <td>2447.0</td>\n",
       "    </tr>\n",
       "    <tr>\n",
       "      <th>M Vergassola</th>\n",
       "      <td>2447</td>\n",
       "      <td>1</td>\n",
       "      <td>2447.0</td>\n",
       "    </tr>\n",
       "    <tr>\n",
       "      <th>JE Mottershead</th>\n",
       "      <td>2414</td>\n",
       "      <td>1</td>\n",
       "      <td>2414.0</td>\n",
       "    </tr>\n",
       "    <tr>\n",
       "      <th>JK Cullum</th>\n",
       "      <td>2182</td>\n",
       "      <td>1</td>\n",
       "      <td>2182.0</td>\n",
       "    </tr>\n",
       "  </tbody>\n",
       "</table>\n",
       "</div>"
      ],
      "text/plain": [
       "                Num_citation  Authors  Average_citations\n",
       "Authors                                                 \n",
       "MEJ Newman             19271        2             9635.5\n",
       "W Thomson               5468        1             5468.0\n",
       " KP Liou                2484        1             2484.0\n",
       "A Pothen                2484        1             2484.0\n",
       "HD Simon                2484        1             2484.0\n",
       "S Succi                 2447        1             2447.0\n",
       "R Benzi                 2447        1             2447.0\n",
       "M Vergassola            2447        1             2447.0\n",
       "JE Mottershead          2414        1             2414.0\n",
       "JK Cullum               2182        1             2182.0"
      ]
     },
     "execution_count": 22,
     "metadata": {},
     "output_type": "execute_result"
    }
   ],
   "source": [
    "top_10_authors"
   ]
  },
  {
   "cell_type": "markdown",
   "metadata": {},
   "source": [
    "**top 10 first authors by publication and their most cited publication**"
   ]
  },
  {
   "cell_type": "code",
   "execution_count": 23,
   "metadata": {},
   "outputs": [
    {
     "name": "stdout",
     "output_type": "stream",
     "text": [
      "Top 10 First Authors by Total Number of Publications:\n",
      "First_Author\n",
      "ED Übeyli      5\n",
      "M Cucuringu    4\n",
      "J Fan          4\n",
      "AL Andrew      4\n",
      "SC Pei         3\n",
      "DA Griffith    3\n",
      "MI Friswell    3\n",
      "IS Dhillon     3\n",
      "MEJ Newman     2\n",
      "PJ Courtois    2\n",
      "Name: count, dtype: int64\n"
     ]
    }
   ],
   "source": [
    "# Create a new DataFrame with the first author of each article\n",
    "first_authors_df = pd.DataFrame({'First_Author': [authors[0] for authors in df['Authors']]})\n",
    "\n",
    "# Group by first author and count the number of publications\n",
    "author_counts = first_authors_df['First_Author'].value_counts()\n",
    "\n",
    "# Get the top 10 first authors by total number of publications\n",
    "top_10_first_authors = author_counts.head(10)\n",
    "\n",
    "# Display the top 10 first authors and their total number of publications\n",
    "print(\"Top 10 First Authors by Total Number of Publications:\")\n",
    "print(top_10_first_authors)"
   ]
  },
  {
   "cell_type": "code",
   "execution_count": 24,
   "metadata": {},
   "outputs": [
    {
     "data": {
      "text/plain": [
       "['ED Übeyli',\n",
       " 'M Cucuringu',\n",
       " 'J Fan',\n",
       " 'AL Andrew',\n",
       " 'SC Pei',\n",
       " 'DA Griffith',\n",
       " 'MI Friswell',\n",
       " 'IS Dhillon',\n",
       " 'MEJ Newman',\n",
       " 'PJ Courtois']"
      ]
     },
     "execution_count": 24,
     "metadata": {},
     "output_type": "execute_result"
    }
   ],
   "source": [
    "top_10_authors_list = list(top_10_first_authors.index)\n",
    "top_10_authors_list"
   ]
  },
  {
   "cell_type": "code",
   "execution_count": 25,
   "metadata": {},
   "outputs": [
    {
     "name": "stdout",
     "output_type": "stream",
     "text": [
      "        Author                          Title of most cited paper  \\\n",
      "0    ED Übeyli  Combining recurrent neural networks witheigenv...   \n",
      "1  M Cucuringu  Eigenvectorsynchronization, graph rigidity and...   \n",
      "2        J Fan  AnEigenvectorPerturbation Bound and ItsApplica...   \n",
      "3    AL Andrew  Derivatives of eigenvalues andeigenvectorsof m...   \n",
      "4       SC Pei  Generalizedeigenvectorsand fractionalization o...   \n",
      "5  DA Griffith  Spatial modeling in ecology: the flexibility o...   \n",
      "6  MI Friswell  The derivatives of repeated eigenvalues and th...   \n",
      "7   IS Dhillon  Weighted graph cuts withouteigenvectorsa multi...   \n",
      "8   MEJ Newman     Modularity and community structure in networks   \n",
      "9  PJ Courtois  Bounds for the positiveeigenvectorsof nonnegat...   \n",
      "\n",
      "   num_citations                     Publication  Published_Year  \n",
      "0            180                        Elsevier            2009  \n",
      "1             86                academic.oup.com            2012  \n",
      "2            167                        jmlr.org            2018  \n",
      "3            205                            SIAM            1993  \n",
      "4             31             ieeexplore.ieee.org            2004  \n",
      "5            712                         Library            2006  \n",
      "6            158  asmedigitalcollection.asme.org            1996  \n",
      "7           1277             ieeexplore.ieee.org            2007  \n",
      "8          13555                        Sciences            2006  \n",
      "9            185                      dl.acm.org            1984  \n"
     ]
    }
   ],
   "source": [
    "# Filter the DataFrame for articles with top authors as first authors\n",
    "filtered_df = df[df['Authors'].apply(lambda authors: authors[0] in top_10_authors_list)]\n",
    "\n",
    "# Initialize an empty list to store data for the new DataFrame\n",
    "new_data = []\n",
    "\n",
    "# Iterate through each author to find their most cited paper\n",
    "for author in top_10_authors_list:\n",
    "    author_articles = filtered_df[filtered_df['Authors'].apply(lambda authors: authors[0] == author)]\n",
    "    most_cited_article = author_articles.loc[author_articles['Num_citation'].idxmax()]\n",
    "    new_data.append({\n",
    "        'Author': author,\n",
    "        'Title of most cited paper': most_cited_article['Title'],\n",
    "        'num_citations': most_cited_article['Num_citation'],\n",
    "        'Publication': most_cited_article['Publication'],\n",
    "        'Published_Year': most_cited_article['Published_Year']\n",
    "    })\n",
    "\n",
    "# Create the new DataFrame\n",
    "new_df = pd.DataFrame(new_data)\n",
    "\n",
    "# Display the new DataFrame\n",
    "print(new_df)"
   ]
  },
  {
   "cell_type": "code",
   "execution_count": 26,
   "metadata": {},
   "outputs": [
    {
     "data": {
      "text/html": [
       "<div>\n",
       "<style scoped>\n",
       "    .dataframe tbody tr th:only-of-type {\n",
       "        vertical-align: middle;\n",
       "    }\n",
       "\n",
       "    .dataframe tbody tr th {\n",
       "        vertical-align: top;\n",
       "    }\n",
       "\n",
       "    .dataframe thead th {\n",
       "        text-align: right;\n",
       "    }\n",
       "</style>\n",
       "<table border=\"1\" class=\"dataframe\">\n",
       "  <thead>\n",
       "    <tr style=\"text-align: right;\">\n",
       "      <th></th>\n",
       "      <th>Author</th>\n",
       "      <th>Title of most cited paper</th>\n",
       "      <th>num_citations</th>\n",
       "      <th>Publication</th>\n",
       "      <th>Published_Year</th>\n",
       "    </tr>\n",
       "  </thead>\n",
       "  <tbody>\n",
       "    <tr>\n",
       "      <th>0</th>\n",
       "      <td>ED Übeyli</td>\n",
       "      <td>Combining recurrent neural networks witheigenv...</td>\n",
       "      <td>180</td>\n",
       "      <td>Elsevier</td>\n",
       "      <td>2009</td>\n",
       "    </tr>\n",
       "    <tr>\n",
       "      <th>1</th>\n",
       "      <td>M Cucuringu</td>\n",
       "      <td>Eigenvectorsynchronization, graph rigidity and...</td>\n",
       "      <td>86</td>\n",
       "      <td>academic.oup.com</td>\n",
       "      <td>2012</td>\n",
       "    </tr>\n",
       "    <tr>\n",
       "      <th>2</th>\n",
       "      <td>J Fan</td>\n",
       "      <td>AnEigenvectorPerturbation Bound and ItsApplica...</td>\n",
       "      <td>167</td>\n",
       "      <td>jmlr.org</td>\n",
       "      <td>2018</td>\n",
       "    </tr>\n",
       "    <tr>\n",
       "      <th>3</th>\n",
       "      <td>AL Andrew</td>\n",
       "      <td>Derivatives of eigenvalues andeigenvectorsof m...</td>\n",
       "      <td>205</td>\n",
       "      <td>SIAM</td>\n",
       "      <td>1993</td>\n",
       "    </tr>\n",
       "    <tr>\n",
       "      <th>4</th>\n",
       "      <td>SC Pei</td>\n",
       "      <td>Generalizedeigenvectorsand fractionalization o...</td>\n",
       "      <td>31</td>\n",
       "      <td>ieeexplore.ieee.org</td>\n",
       "      <td>2004</td>\n",
       "    </tr>\n",
       "    <tr>\n",
       "      <th>5</th>\n",
       "      <td>DA Griffith</td>\n",
       "      <td>Spatial modeling in ecology: the flexibility o...</td>\n",
       "      <td>712</td>\n",
       "      <td>Library</td>\n",
       "      <td>2006</td>\n",
       "    </tr>\n",
       "    <tr>\n",
       "      <th>6</th>\n",
       "      <td>MI Friswell</td>\n",
       "      <td>The derivatives of repeated eigenvalues and th...</td>\n",
       "      <td>158</td>\n",
       "      <td>asmedigitalcollection.asme.org</td>\n",
       "      <td>1996</td>\n",
       "    </tr>\n",
       "    <tr>\n",
       "      <th>7</th>\n",
       "      <td>IS Dhillon</td>\n",
       "      <td>Weighted graph cuts withouteigenvectorsa multi...</td>\n",
       "      <td>1277</td>\n",
       "      <td>ieeexplore.ieee.org</td>\n",
       "      <td>2007</td>\n",
       "    </tr>\n",
       "    <tr>\n",
       "      <th>8</th>\n",
       "      <td>MEJ Newman</td>\n",
       "      <td>Modularity and community structure in networks</td>\n",
       "      <td>13555</td>\n",
       "      <td>Sciences</td>\n",
       "      <td>2006</td>\n",
       "    </tr>\n",
       "    <tr>\n",
       "      <th>9</th>\n",
       "      <td>PJ Courtois</td>\n",
       "      <td>Bounds for the positiveeigenvectorsof nonnegat...</td>\n",
       "      <td>185</td>\n",
       "      <td>dl.acm.org</td>\n",
       "      <td>1984</td>\n",
       "    </tr>\n",
       "  </tbody>\n",
       "</table>\n",
       "</div>"
      ],
      "text/plain": [
       "        Author                          Title of most cited paper  \\\n",
       "0    ED Übeyli  Combining recurrent neural networks witheigenv...   \n",
       "1  M Cucuringu  Eigenvectorsynchronization, graph rigidity and...   \n",
       "2        J Fan  AnEigenvectorPerturbation Bound and ItsApplica...   \n",
       "3    AL Andrew  Derivatives of eigenvalues andeigenvectorsof m...   \n",
       "4       SC Pei  Generalizedeigenvectorsand fractionalization o...   \n",
       "5  DA Griffith  Spatial modeling in ecology: the flexibility o...   \n",
       "6  MI Friswell  The derivatives of repeated eigenvalues and th...   \n",
       "7   IS Dhillon  Weighted graph cuts withouteigenvectorsa multi...   \n",
       "8   MEJ Newman     Modularity and community structure in networks   \n",
       "9  PJ Courtois  Bounds for the positiveeigenvectorsof nonnegat...   \n",
       "\n",
       "   num_citations                     Publication  Published_Year  \n",
       "0            180                        Elsevier            2009  \n",
       "1             86                academic.oup.com            2012  \n",
       "2            167                        jmlr.org            2018  \n",
       "3            205                            SIAM            1993  \n",
       "4             31             ieeexplore.ieee.org            2004  \n",
       "5            712                         Library            2006  \n",
       "6            158  asmedigitalcollection.asme.org            1996  \n",
       "7           1277             ieeexplore.ieee.org            2007  \n",
       "8          13555                        Sciences            2006  \n",
       "9            185                      dl.acm.org            1984  "
      ]
     },
     "execution_count": 26,
     "metadata": {},
     "output_type": "execute_result"
    }
   ],
   "source": [
    "new_df"
   ]
  },
  {
   "cell_type": "markdown",
   "metadata": {},
   "source": [
    "**Most Common Publication**"
   ]
  },
  {
   "cell_type": "code",
   "execution_count": 27,
   "metadata": {},
   "outputs": [
    {
     "data": {
      "text/html": [
       "<div>\n",
       "<style scoped>\n",
       "    .dataframe tbody tr th:only-of-type {\n",
       "        vertical-align: middle;\n",
       "    }\n",
       "\n",
       "    .dataframe tbody tr th {\n",
       "        vertical-align: top;\n",
       "    }\n",
       "\n",
       "    .dataframe thead th {\n",
       "        text-align: right;\n",
       "    }\n",
       "</style>\n",
       "<table border=\"1\" class=\"dataframe\">\n",
       "  <thead>\n",
       "    <tr style=\"text-align: right;\">\n",
       "      <th></th>\n",
       "      <th>UID</th>\n",
       "      <th>Title</th>\n",
       "      <th>Authors</th>\n",
       "      <th>Publication</th>\n",
       "      <th>Num_citation</th>\n",
       "      <th>Published_Year</th>\n",
       "    </tr>\n",
       "  </thead>\n",
       "  <tbody>\n",
       "    <tr>\n",
       "      <th>0</th>\n",
       "      <td>2DMqugwNW9oJ</td>\n",
       "      <td>A new concept of eigenvalues andeigenvectorsan...</td>\n",
       "      <td>[MY Wu]</td>\n",
       "      <td>ieeexplore.ieee.org</td>\n",
       "      <td>68</td>\n",
       "      <td>1980</td>\n",
       "    </tr>\n",
       "    <tr>\n",
       "      <th>1</th>\n",
       "      <td>zzpzALD37SQJ</td>\n",
       "      <td>Eigenvectorcentrality and itsapplicationin res...</td>\n",
       "      <td>[A Bihari,  MK Pandia]</td>\n",
       "      <td>ieeexplore.ieee.org</td>\n",
       "      <td>65</td>\n",
       "      <td>2015</td>\n",
       "    </tr>\n",
       "    <tr>\n",
       "      <th>2</th>\n",
       "      <td>SVmjfYkcXxUJ</td>\n",
       "      <td>Commoneigenvectorsof two matrices</td>\n",
       "      <td>[D Shemesh]</td>\n",
       "      <td>Elsevier</td>\n",
       "      <td>118</td>\n",
       "      <td>1984</td>\n",
       "    </tr>\n",
       "    <tr>\n",
       "      <th>3</th>\n",
       "      <td>forIRmVTLqUJ</td>\n",
       "      <td>Eigenvectorsand functions of the discrete Four...</td>\n",
       "      <td>[B Dickinson,  K Steiglitz]</td>\n",
       "      <td>ieeexplore.ieee.org</td>\n",
       "      <td>290</td>\n",
       "      <td>1982</td>\n",
       "    </tr>\n",
       "    <tr>\n",
       "      <th>4</th>\n",
       "      <td>ythuIw5g--IJ</td>\n",
       "      <td>Properties of theeigenvectorsof persymmetric m...</td>\n",
       "      <td>[A Cantoni,  P Butler]</td>\n",
       "      <td>ieeexplore.ieee.org</td>\n",
       "      <td>131</td>\n",
       "      <td>1976</td>\n",
       "    </tr>\n",
       "  </tbody>\n",
       "</table>\n",
       "</div>"
      ],
      "text/plain": [
       "            UID                                              Title  \\\n",
       "0  2DMqugwNW9oJ  A new concept of eigenvalues andeigenvectorsan...   \n",
       "1  zzpzALD37SQJ  Eigenvectorcentrality and itsapplicationin res...   \n",
       "2  SVmjfYkcXxUJ                  Commoneigenvectorsof two matrices   \n",
       "3  forIRmVTLqUJ  Eigenvectorsand functions of the discrete Four...   \n",
       "4  ythuIw5g--IJ  Properties of theeigenvectorsof persymmetric m...   \n",
       "\n",
       "                       Authors          Publication  Num_citation  \\\n",
       "0                      [MY Wu]  ieeexplore.ieee.org            68   \n",
       "1       [A Bihari,  MK Pandia]  ieeexplore.ieee.org            65   \n",
       "2                  [D Shemesh]             Elsevier           118   \n",
       "3  [B Dickinson,  K Steiglitz]  ieeexplore.ieee.org           290   \n",
       "4       [A Cantoni,  P Butler]  ieeexplore.ieee.org           131   \n",
       "\n",
       "   Published_Year  \n",
       "0            1980  \n",
       "1            2015  \n",
       "2            1984  \n",
       "3            1982  \n",
       "4            1976  "
      ]
     },
     "execution_count": 27,
     "metadata": {},
     "output_type": "execute_result"
    }
   ],
   "source": [
    "df_authors.head()"
   ]
  },
  {
   "cell_type": "code",
   "execution_count": 28,
   "metadata": {},
   "outputs": [
    {
     "name": "stdout",
     "output_type": "stream",
     "text": [
      "Publication and Counts in Descending Order:\n"
     ]
    },
    {
     "data": {
      "text/plain": [
       "Publication\n",
       "Elsevier                     116\n",
       "ieeexplore.ieee.org           85\n",
       "Springer                      47\n",
       "Library                       26\n",
       "SIAM                          24\n",
       "                            ... \n",
       "ascelibrary.org                1\n",
       "liebertpub.com                 1\n",
       "research.tue.nl                1\n",
       "open.library.ubc.ca            1\n",
       "researchexchange.iaao.org      1\n",
       "Name: count, Length: 92, dtype: int64"
      ]
     },
     "execution_count": 28,
     "metadata": {},
     "output_type": "execute_result"
    }
   ],
   "source": [
    "# Count unique values in 'Publication' column and sort by counts in descending order\n",
    "publication_counts = df_authors['Publication'].value_counts().sort_values(ascending=False)\n",
    "\n",
    "# Display the unique 'Publication' values and their counts in descending order\n",
    "print(\"Publication and Counts in Descending Order:\")\n",
    "publication_counts"
   ]
  },
  {
   "cell_type": "code",
   "execution_count": 29,
   "metadata": {},
   "outputs": [
    {
     "data": {
      "application/vnd.plotly.v1+json": {
       "config": {
        "plotlyServerURL": "https://plot.ly"
       },
       "data": [
        {
         "alignmentgroup": "True",
         "hovertemplate": "Publication=%{x}<br>Count=%{y}<extra></extra>",
         "legendgroup": "",
         "marker": {
          "color": "#636efa",
          "pattern": {
           "shape": ""
          }
         },
         "name": "",
         "offsetgroup": "",
         "orientation": "v",
         "showlegend": false,
         "textposition": "auto",
         "type": "bar",
         "x": [
          "Elsevier",
          "ieeexplore.ieee.org",
          "Springer",
          "Library",
          "SIAM",
          "arc.aiaa.org",
          "APS",
          "Francis",
          "pubs.aip.org",
          "arxiv.org",
          "iopscience.iop.org",
          "researchgate.net",
          "academic.oup.com",
          "books.google.com",
          "asmedigitalcollection.asme.org",
          "Publications",
          "Citeseer",
          "spiedigitallibrary.org",
          "proceedings.mlr.press",
          "core.ac.uk",
          "Scientific",
          "journals.sagepub.com",
          "JSTOR",
          "academia.edu",
          "journals.plos.org",
          "mdpi.com",
          "search.proquest.com",
          "ams.org",
          "opg.optica.org",
          "proceedings.neurips.cc",
          "projecteuclid.org",
          "journals.ametsoc.org",
          "cambridge.org",
          "ncbi.nlm.nih.gov",
          "ingentaconnect.com",
          "nature.com",
          "upcommons.upc.edu",
          "dl.acm.org",
          "sciendo.com",
          "library.seg.org",
          "repository.kaust.edu.sa",
          "jmlr.org",
          "malabdali.com",
          "hindawi.com",
          "bibliotekanauki.pl",
          "dml.mathdoc.fr",
          "library.iated.org",
          "repository.uwc.ac.za",
          "infona.pl",
          "dialnet.unirioja.es",
          "ui.adsabs.harvard.edu",
          "pastel.hal.science",
          "ijcaonline.com",
          "degruyter.com",
          "Sciences",
          "math.princeton.edu",
          "webhome.auburn.edu",
          "papers.ssrn.com",
          "ch.whu.edu.cn",
          "math.upenn.edu",
          "royalsocietypublishing.org",
          "anale-informatica.tibiscus.ro",
          "pubs.geoscienceworld.org",
          "matf.bg.ac.rs",
          "kar.kent.ac.uk",
          "hal.science",
          "direct.mit.edu",
          "diva-portal.org",
          "taylorfrancis.com",
          "content.iospress.com",
          "atcm.mathandtech.org",
          "emerald.com",
          "emis.de",
          "ojs.aaai.org",
          "sites.uclouvain.be",
          "doiserbia.nb.rs",
          "wwwisg.cs.uni-magdeburg.de",
          "kleine.mat.uniroma3.it",
          "jurnal.untirta.ac.id",
          "jkps.or.kr",
          "inis.iaea.org",
          "grafar.grf.bg.ac.rs",
          "46.28.109.63",
          "etd.uwc.ac.za",
          "jp4.journaldephysique.org",
          "IET",
          "elibrary.ru",
          "ascelibrary.org",
          "liebertpub.com",
          "research.tue.nl",
          "open.library.ubc.ca",
          "researchexchange.iaao.org"
         ],
         "xaxis": "x",
         "y": [
          116,
          85,
          47,
          26,
          24,
          14,
          14,
          12,
          11,
          11,
          10,
          10,
          9,
          6,
          5,
          5,
          5,
          5,
          4,
          4,
          4,
          4,
          4,
          3,
          3,
          3,
          3,
          3,
          3,
          3,
          3,
          3,
          2,
          2,
          2,
          2,
          2,
          2,
          2,
          2,
          1,
          1,
          1,
          1,
          1,
          1,
          1,
          1,
          1,
          1,
          1,
          1,
          1,
          1,
          1,
          1,
          1,
          1,
          1,
          1,
          1,
          1,
          1,
          1,
          1,
          1,
          1,
          1,
          1,
          1,
          1,
          1,
          1,
          1,
          1,
          1,
          1,
          1,
          1,
          1,
          1,
          1,
          1,
          1,
          1,
          1,
          1,
          1,
          1,
          1,
          1,
          1
         ],
         "yaxis": "y"
        }
       ],
       "layout": {
        "barmode": "relative",
        "legend": {
         "tracegroupgap": 0
        },
        "margin": {
         "t": 60
        },
        "template": {
         "data": {
          "bar": [
           {
            "error_x": {
             "color": "#2a3f5f"
            },
            "error_y": {
             "color": "#2a3f5f"
            },
            "marker": {
             "line": {
              "color": "#E5ECF6",
              "width": 0.5
             },
             "pattern": {
              "fillmode": "overlay",
              "size": 10,
              "solidity": 0.2
             }
            },
            "type": "bar"
           }
          ],
          "barpolar": [
           {
            "marker": {
             "line": {
              "color": "#E5ECF6",
              "width": 0.5
             },
             "pattern": {
              "fillmode": "overlay",
              "size": 10,
              "solidity": 0.2
             }
            },
            "type": "barpolar"
           }
          ],
          "carpet": [
           {
            "aaxis": {
             "endlinecolor": "#2a3f5f",
             "gridcolor": "white",
             "linecolor": "white",
             "minorgridcolor": "white",
             "startlinecolor": "#2a3f5f"
            },
            "baxis": {
             "endlinecolor": "#2a3f5f",
             "gridcolor": "white",
             "linecolor": "white",
             "minorgridcolor": "white",
             "startlinecolor": "#2a3f5f"
            },
            "type": "carpet"
           }
          ],
          "choropleth": [
           {
            "colorbar": {
             "outlinewidth": 0,
             "ticks": ""
            },
            "type": "choropleth"
           }
          ],
          "contour": [
           {
            "colorbar": {
             "outlinewidth": 0,
             "ticks": ""
            },
            "colorscale": [
             [
              0,
              "#0d0887"
             ],
             [
              0.1111111111111111,
              "#46039f"
             ],
             [
              0.2222222222222222,
              "#7201a8"
             ],
             [
              0.3333333333333333,
              "#9c179e"
             ],
             [
              0.4444444444444444,
              "#bd3786"
             ],
             [
              0.5555555555555556,
              "#d8576b"
             ],
             [
              0.6666666666666666,
              "#ed7953"
             ],
             [
              0.7777777777777778,
              "#fb9f3a"
             ],
             [
              0.8888888888888888,
              "#fdca26"
             ],
             [
              1,
              "#f0f921"
             ]
            ],
            "type": "contour"
           }
          ],
          "contourcarpet": [
           {
            "colorbar": {
             "outlinewidth": 0,
             "ticks": ""
            },
            "type": "contourcarpet"
           }
          ],
          "heatmap": [
           {
            "colorbar": {
             "outlinewidth": 0,
             "ticks": ""
            },
            "colorscale": [
             [
              0,
              "#0d0887"
             ],
             [
              0.1111111111111111,
              "#46039f"
             ],
             [
              0.2222222222222222,
              "#7201a8"
             ],
             [
              0.3333333333333333,
              "#9c179e"
             ],
             [
              0.4444444444444444,
              "#bd3786"
             ],
             [
              0.5555555555555556,
              "#d8576b"
             ],
             [
              0.6666666666666666,
              "#ed7953"
             ],
             [
              0.7777777777777778,
              "#fb9f3a"
             ],
             [
              0.8888888888888888,
              "#fdca26"
             ],
             [
              1,
              "#f0f921"
             ]
            ],
            "type": "heatmap"
           }
          ],
          "heatmapgl": [
           {
            "colorbar": {
             "outlinewidth": 0,
             "ticks": ""
            },
            "colorscale": [
             [
              0,
              "#0d0887"
             ],
             [
              0.1111111111111111,
              "#46039f"
             ],
             [
              0.2222222222222222,
              "#7201a8"
             ],
             [
              0.3333333333333333,
              "#9c179e"
             ],
             [
              0.4444444444444444,
              "#bd3786"
             ],
             [
              0.5555555555555556,
              "#d8576b"
             ],
             [
              0.6666666666666666,
              "#ed7953"
             ],
             [
              0.7777777777777778,
              "#fb9f3a"
             ],
             [
              0.8888888888888888,
              "#fdca26"
             ],
             [
              1,
              "#f0f921"
             ]
            ],
            "type": "heatmapgl"
           }
          ],
          "histogram": [
           {
            "marker": {
             "pattern": {
              "fillmode": "overlay",
              "size": 10,
              "solidity": 0.2
             }
            },
            "type": "histogram"
           }
          ],
          "histogram2d": [
           {
            "colorbar": {
             "outlinewidth": 0,
             "ticks": ""
            },
            "colorscale": [
             [
              0,
              "#0d0887"
             ],
             [
              0.1111111111111111,
              "#46039f"
             ],
             [
              0.2222222222222222,
              "#7201a8"
             ],
             [
              0.3333333333333333,
              "#9c179e"
             ],
             [
              0.4444444444444444,
              "#bd3786"
             ],
             [
              0.5555555555555556,
              "#d8576b"
             ],
             [
              0.6666666666666666,
              "#ed7953"
             ],
             [
              0.7777777777777778,
              "#fb9f3a"
             ],
             [
              0.8888888888888888,
              "#fdca26"
             ],
             [
              1,
              "#f0f921"
             ]
            ],
            "type": "histogram2d"
           }
          ],
          "histogram2dcontour": [
           {
            "colorbar": {
             "outlinewidth": 0,
             "ticks": ""
            },
            "colorscale": [
             [
              0,
              "#0d0887"
             ],
             [
              0.1111111111111111,
              "#46039f"
             ],
             [
              0.2222222222222222,
              "#7201a8"
             ],
             [
              0.3333333333333333,
              "#9c179e"
             ],
             [
              0.4444444444444444,
              "#bd3786"
             ],
             [
              0.5555555555555556,
              "#d8576b"
             ],
             [
              0.6666666666666666,
              "#ed7953"
             ],
             [
              0.7777777777777778,
              "#fb9f3a"
             ],
             [
              0.8888888888888888,
              "#fdca26"
             ],
             [
              1,
              "#f0f921"
             ]
            ],
            "type": "histogram2dcontour"
           }
          ],
          "mesh3d": [
           {
            "colorbar": {
             "outlinewidth": 0,
             "ticks": ""
            },
            "type": "mesh3d"
           }
          ],
          "parcoords": [
           {
            "line": {
             "colorbar": {
              "outlinewidth": 0,
              "ticks": ""
             }
            },
            "type": "parcoords"
           }
          ],
          "pie": [
           {
            "automargin": true,
            "type": "pie"
           }
          ],
          "scatter": [
           {
            "fillpattern": {
             "fillmode": "overlay",
             "size": 10,
             "solidity": 0.2
            },
            "type": "scatter"
           }
          ],
          "scatter3d": [
           {
            "line": {
             "colorbar": {
              "outlinewidth": 0,
              "ticks": ""
             }
            },
            "marker": {
             "colorbar": {
              "outlinewidth": 0,
              "ticks": ""
             }
            },
            "type": "scatter3d"
           }
          ],
          "scattercarpet": [
           {
            "marker": {
             "colorbar": {
              "outlinewidth": 0,
              "ticks": ""
             }
            },
            "type": "scattercarpet"
           }
          ],
          "scattergeo": [
           {
            "marker": {
             "colorbar": {
              "outlinewidth": 0,
              "ticks": ""
             }
            },
            "type": "scattergeo"
           }
          ],
          "scattergl": [
           {
            "marker": {
             "colorbar": {
              "outlinewidth": 0,
              "ticks": ""
             }
            },
            "type": "scattergl"
           }
          ],
          "scattermapbox": [
           {
            "marker": {
             "colorbar": {
              "outlinewidth": 0,
              "ticks": ""
             }
            },
            "type": "scattermapbox"
           }
          ],
          "scatterpolar": [
           {
            "marker": {
             "colorbar": {
              "outlinewidth": 0,
              "ticks": ""
             }
            },
            "type": "scatterpolar"
           }
          ],
          "scatterpolargl": [
           {
            "marker": {
             "colorbar": {
              "outlinewidth": 0,
              "ticks": ""
             }
            },
            "type": "scatterpolargl"
           }
          ],
          "scatterternary": [
           {
            "marker": {
             "colorbar": {
              "outlinewidth": 0,
              "ticks": ""
             }
            },
            "type": "scatterternary"
           }
          ],
          "surface": [
           {
            "colorbar": {
             "outlinewidth": 0,
             "ticks": ""
            },
            "colorscale": [
             [
              0,
              "#0d0887"
             ],
             [
              0.1111111111111111,
              "#46039f"
             ],
             [
              0.2222222222222222,
              "#7201a8"
             ],
             [
              0.3333333333333333,
              "#9c179e"
             ],
             [
              0.4444444444444444,
              "#bd3786"
             ],
             [
              0.5555555555555556,
              "#d8576b"
             ],
             [
              0.6666666666666666,
              "#ed7953"
             ],
             [
              0.7777777777777778,
              "#fb9f3a"
             ],
             [
              0.8888888888888888,
              "#fdca26"
             ],
             [
              1,
              "#f0f921"
             ]
            ],
            "type": "surface"
           }
          ],
          "table": [
           {
            "cells": {
             "fill": {
              "color": "#EBF0F8"
             },
             "line": {
              "color": "white"
             }
            },
            "header": {
             "fill": {
              "color": "#C8D4E3"
             },
             "line": {
              "color": "white"
             }
            },
            "type": "table"
           }
          ]
         },
         "layout": {
          "annotationdefaults": {
           "arrowcolor": "#2a3f5f",
           "arrowhead": 0,
           "arrowwidth": 1
          },
          "autotypenumbers": "strict",
          "coloraxis": {
           "colorbar": {
            "outlinewidth": 0,
            "ticks": ""
           }
          },
          "colorscale": {
           "diverging": [
            [
             0,
             "#8e0152"
            ],
            [
             0.1,
             "#c51b7d"
            ],
            [
             0.2,
             "#de77ae"
            ],
            [
             0.3,
             "#f1b6da"
            ],
            [
             0.4,
             "#fde0ef"
            ],
            [
             0.5,
             "#f7f7f7"
            ],
            [
             0.6,
             "#e6f5d0"
            ],
            [
             0.7,
             "#b8e186"
            ],
            [
             0.8,
             "#7fbc41"
            ],
            [
             0.9,
             "#4d9221"
            ],
            [
             1,
             "#276419"
            ]
           ],
           "sequential": [
            [
             0,
             "#0d0887"
            ],
            [
             0.1111111111111111,
             "#46039f"
            ],
            [
             0.2222222222222222,
             "#7201a8"
            ],
            [
             0.3333333333333333,
             "#9c179e"
            ],
            [
             0.4444444444444444,
             "#bd3786"
            ],
            [
             0.5555555555555556,
             "#d8576b"
            ],
            [
             0.6666666666666666,
             "#ed7953"
            ],
            [
             0.7777777777777778,
             "#fb9f3a"
            ],
            [
             0.8888888888888888,
             "#fdca26"
            ],
            [
             1,
             "#f0f921"
            ]
           ],
           "sequentialminus": [
            [
             0,
             "#0d0887"
            ],
            [
             0.1111111111111111,
             "#46039f"
            ],
            [
             0.2222222222222222,
             "#7201a8"
            ],
            [
             0.3333333333333333,
             "#9c179e"
            ],
            [
             0.4444444444444444,
             "#bd3786"
            ],
            [
             0.5555555555555556,
             "#d8576b"
            ],
            [
             0.6666666666666666,
             "#ed7953"
            ],
            [
             0.7777777777777778,
             "#fb9f3a"
            ],
            [
             0.8888888888888888,
             "#fdca26"
            ],
            [
             1,
             "#f0f921"
            ]
           ]
          },
          "colorway": [
           "#636efa",
           "#EF553B",
           "#00cc96",
           "#ab63fa",
           "#FFA15A",
           "#19d3f3",
           "#FF6692",
           "#B6E880",
           "#FF97FF",
           "#FECB52"
          ],
          "font": {
           "color": "#2a3f5f"
          },
          "geo": {
           "bgcolor": "white",
           "lakecolor": "white",
           "landcolor": "#E5ECF6",
           "showlakes": true,
           "showland": true,
           "subunitcolor": "white"
          },
          "hoverlabel": {
           "align": "left"
          },
          "hovermode": "closest",
          "mapbox": {
           "style": "light"
          },
          "paper_bgcolor": "white",
          "plot_bgcolor": "#E5ECF6",
          "polar": {
           "angularaxis": {
            "gridcolor": "white",
            "linecolor": "white",
            "ticks": ""
           },
           "bgcolor": "#E5ECF6",
           "radialaxis": {
            "gridcolor": "white",
            "linecolor": "white",
            "ticks": ""
           }
          },
          "scene": {
           "xaxis": {
            "backgroundcolor": "#E5ECF6",
            "gridcolor": "white",
            "gridwidth": 2,
            "linecolor": "white",
            "showbackground": true,
            "ticks": "",
            "zerolinecolor": "white"
           },
           "yaxis": {
            "backgroundcolor": "#E5ECF6",
            "gridcolor": "white",
            "gridwidth": 2,
            "linecolor": "white",
            "showbackground": true,
            "ticks": "",
            "zerolinecolor": "white"
           },
           "zaxis": {
            "backgroundcolor": "#E5ECF6",
            "gridcolor": "white",
            "gridwidth": 2,
            "linecolor": "white",
            "showbackground": true,
            "ticks": "",
            "zerolinecolor": "white"
           }
          },
          "shapedefaults": {
           "line": {
            "color": "#2a3f5f"
           }
          },
          "ternary": {
           "aaxis": {
            "gridcolor": "white",
            "linecolor": "white",
            "ticks": ""
           },
           "baxis": {
            "gridcolor": "white",
            "linecolor": "white",
            "ticks": ""
           },
           "bgcolor": "#E5ECF6",
           "caxis": {
            "gridcolor": "white",
            "linecolor": "white",
            "ticks": ""
           }
          },
          "title": {
           "x": 0.05
          },
          "xaxis": {
           "automargin": true,
           "gridcolor": "white",
           "linecolor": "white",
           "ticks": "",
           "title": {
            "standoff": 15
           },
           "zerolinecolor": "white",
           "zerolinewidth": 2
          },
          "yaxis": {
           "automargin": true,
           "gridcolor": "white",
           "linecolor": "white",
           "ticks": "",
           "title": {
            "standoff": 15
           },
           "zerolinecolor": "white",
           "zerolinewidth": 2
          }
         }
        },
        "title": {
         "text": "Publication and Counts in Descending Order"
        },
        "xaxis": {
         "anchor": "y",
         "domain": [
          0,
          1
         ],
         "title": {
          "text": "Publication"
         }
        },
        "yaxis": {
         "anchor": "x",
         "domain": [
          0,
          1
         ],
         "title": {
          "text": "Count"
         }
        }
       }
      }
     },
     "metadata": {},
     "output_type": "display_data"
    }
   ],
   "source": [
    "# Create a bar chart using Plotly\n",
    "fig = px.bar(x=publication_counts.index, y=publication_counts.values, labels={'x': 'Publication', 'y': 'Count'})\n",
    "fig.update_layout(title='Publication and Counts in Descending Order', xaxis_title='Publication', yaxis_title='Count')\n",
    "fig.show()"
   ]
  },
  {
   "cell_type": "markdown",
   "metadata": {},
   "source": [
    "***Average citations for each publication***"
   ]
  },
  {
   "cell_type": "code",
   "execution_count": 30,
   "metadata": {},
   "outputs": [],
   "source": [
    "# Calculate average citations for each publication\n",
    "avg_citations_per_publication = df_authors.groupby('Publication')['Num_citation'].mean().reset_index()\n"
   ]
  },
  {
   "cell_type": "code",
   "execution_count": 31,
   "metadata": {},
   "outputs": [
    {
     "data": {
      "text/html": [
       "<div>\n",
       "<style scoped>\n",
       "    .dataframe tbody tr th:only-of-type {\n",
       "        vertical-align: middle;\n",
       "    }\n",
       "\n",
       "    .dataframe tbody tr th {\n",
       "        vertical-align: top;\n",
       "    }\n",
       "\n",
       "    .dataframe thead th {\n",
       "        text-align: right;\n",
       "    }\n",
       "</style>\n",
       "<table border=\"1\" class=\"dataframe\">\n",
       "  <thead>\n",
       "    <tr style=\"text-align: right;\">\n",
       "      <th></th>\n",
       "      <th>Publication</th>\n",
       "      <th>Num_citation</th>\n",
       "    </tr>\n",
       "  </thead>\n",
       "  <tbody>\n",
       "    <tr>\n",
       "      <th>0</th>\n",
       "      <td>46.28.109.63</td>\n",
       "      <td>5.000000</td>\n",
       "    </tr>\n",
       "    <tr>\n",
       "      <th>1</th>\n",
       "      <td>APS</td>\n",
       "      <td>590.785714</td>\n",
       "    </tr>\n",
       "    <tr>\n",
       "      <th>2</th>\n",
       "      <td>Citeseer</td>\n",
       "      <td>32.000000</td>\n",
       "    </tr>\n",
       "    <tr>\n",
       "      <th>3</th>\n",
       "      <td>Elsevier</td>\n",
       "      <td>120.060345</td>\n",
       "    </tr>\n",
       "    <tr>\n",
       "      <th>4</th>\n",
       "      <td>Francis</td>\n",
       "      <td>29.666667</td>\n",
       "    </tr>\n",
       "    <tr>\n",
       "      <th>...</th>\n",
       "      <td>...</td>\n",
       "      <td>...</td>\n",
       "    </tr>\n",
       "    <tr>\n",
       "      <th>87</th>\n",
       "      <td>taylorfrancis.com</td>\n",
       "      <td>5468.000000</td>\n",
       "    </tr>\n",
       "    <tr>\n",
       "      <th>88</th>\n",
       "      <td>ui.adsabs.harvard.edu</td>\n",
       "      <td>11.000000</td>\n",
       "    </tr>\n",
       "    <tr>\n",
       "      <th>89</th>\n",
       "      <td>upcommons.upc.edu</td>\n",
       "      <td>9.000000</td>\n",
       "    </tr>\n",
       "    <tr>\n",
       "      <th>90</th>\n",
       "      <td>webhome.auburn.edu</td>\n",
       "      <td>5.000000</td>\n",
       "    </tr>\n",
       "    <tr>\n",
       "      <th>91</th>\n",
       "      <td>wwwisg.cs.uni-magdeburg.de</td>\n",
       "      <td>3.000000</td>\n",
       "    </tr>\n",
       "  </tbody>\n",
       "</table>\n",
       "<p>92 rows × 2 columns</p>\n",
       "</div>"
      ],
      "text/plain": [
       "                   Publication  Num_citation\n",
       "0                 46.28.109.63      5.000000\n",
       "1                          APS    590.785714\n",
       "2                     Citeseer     32.000000\n",
       "3                     Elsevier    120.060345\n",
       "4                      Francis     29.666667\n",
       "..                         ...           ...\n",
       "87           taylorfrancis.com   5468.000000\n",
       "88       ui.adsabs.harvard.edu     11.000000\n",
       "89           upcommons.upc.edu      9.000000\n",
       "90          webhome.auburn.edu      5.000000\n",
       "91  wwwisg.cs.uni-magdeburg.de      3.000000\n",
       "\n",
       "[92 rows x 2 columns]"
      ]
     },
     "execution_count": 31,
     "metadata": {},
     "output_type": "execute_result"
    }
   ],
   "source": [
    "avg_citations_per_publication"
   ]
  },
  {
   "cell_type": "code",
   "execution_count": 32,
   "metadata": {},
   "outputs": [
    {
     "data": {
      "application/vnd.plotly.v1+json": {
       "config": {
        "plotlyServerURL": "https://plot.ly"
       },
       "data": [
        {
         "alignmentgroup": "True",
         "hovertemplate": "Publication=%{x}<br>Average Citations=%{y}<extra></extra>",
         "legendgroup": "",
         "marker": {
          "color": "#636efa",
          "pattern": {
           "shape": ""
          }
         },
         "name": "",
         "offsetgroup": "",
         "orientation": "v",
         "showlegend": false,
         "textposition": "auto",
         "type": "bar",
         "x": [
          "46.28.109.63",
          "APS",
          "Citeseer",
          "Elsevier",
          "Francis",
          "IET",
          "JSTOR",
          "Library",
          "Publications",
          "SIAM",
          "Sciences",
          "Scientific",
          "Springer",
          "academia.edu",
          "academic.oup.com",
          "ams.org",
          "anale-informatica.tibiscus.ro",
          "arc.aiaa.org",
          "arxiv.org",
          "ascelibrary.org",
          "asmedigitalcollection.asme.org",
          "atcm.mathandtech.org",
          "bibliotekanauki.pl",
          "books.google.com",
          "cambridge.org",
          "ch.whu.edu.cn",
          "content.iospress.com",
          "core.ac.uk",
          "degruyter.com",
          "dialnet.unirioja.es",
          "direct.mit.edu",
          "diva-portal.org",
          "dl.acm.org",
          "dml.mathdoc.fr",
          "doiserbia.nb.rs",
          "elibrary.ru",
          "emerald.com",
          "emis.de",
          "etd.uwc.ac.za",
          "grafar.grf.bg.ac.rs",
          "hal.science",
          "hindawi.com",
          "ieeexplore.ieee.org",
          "ijcaonline.com",
          "infona.pl",
          "ingentaconnect.com",
          "inis.iaea.org",
          "iopscience.iop.org",
          "jkps.or.kr",
          "jmlr.org",
          "journals.ametsoc.org",
          "journals.plos.org",
          "journals.sagepub.com",
          "jp4.journaldephysique.org",
          "jurnal.untirta.ac.id",
          "kar.kent.ac.uk",
          "kleine.mat.uniroma3.it",
          "library.iated.org",
          "library.seg.org",
          "liebertpub.com",
          "malabdali.com",
          "matf.bg.ac.rs",
          "math.princeton.edu",
          "math.upenn.edu",
          "mdpi.com",
          "nature.com",
          "ncbi.nlm.nih.gov",
          "ojs.aaai.org",
          "open.library.ubc.ca",
          "opg.optica.org",
          "papers.ssrn.com",
          "pastel.hal.science",
          "proceedings.mlr.press",
          "proceedings.neurips.cc",
          "projecteuclid.org",
          "pubs.aip.org",
          "pubs.geoscienceworld.org",
          "repository.kaust.edu.sa",
          "repository.uwc.ac.za",
          "research.tue.nl",
          "researchexchange.iaao.org",
          "researchgate.net",
          "royalsocietypublishing.org",
          "sciendo.com",
          "search.proquest.com",
          "sites.uclouvain.be",
          "spiedigitallibrary.org",
          "taylorfrancis.com",
          "ui.adsabs.harvard.edu",
          "upcommons.upc.edu",
          "webhome.auburn.edu",
          "wwwisg.cs.uni-magdeburg.de"
         ],
         "xaxis": "x",
         "y": [
          5,
          590.7857142857143,
          32,
          120.0603448275862,
          29.666666666666668,
          17,
          429.75,
          234.73076923076923,
          275.2,
          404.75,
          13555,
          40.5,
          121.53191489361703,
          25.666666666666668,
          64.88888888888889,
          59,
          1,
          91.14285714285714,
          41.81818181818182,
          22,
          99.4,
          1,
          17,
          408.5,
          139,
          1,
          881,
          45,
          3,
          2,
          28,
          1,
          119.5,
          16,
          28,
          10,
          4,
          11,
          9,
          29,
          4,
          573,
          156.81176470588235,
          26,
          5,
          24.5,
          2,
          58.1,
          1,
          167,
          234.66666666666666,
          198,
          114.25,
          148,
          5,
          1,
          10,
          1,
          22.5,
          121,
          104,
          166,
          2,
          20,
          6.666666666666667,
          640,
          152.5,
          18,
          17,
          81.33333333333333,
          9,
          4,
          28.25,
          134.66666666666666,
          135.33333333333334,
          99.18181818181819,
          186,
          16,
          9,
          145,
          3,
          121.2,
          19,
          8,
          761,
          2,
          12.4,
          5468,
          11,
          9,
          5,
          3
         ],
         "yaxis": "y"
        }
       ],
       "layout": {
        "barmode": "relative",
        "legend": {
         "tracegroupgap": 0
        },
        "template": {
         "data": {
          "bar": [
           {
            "error_x": {
             "color": "#2a3f5f"
            },
            "error_y": {
             "color": "#2a3f5f"
            },
            "marker": {
             "line": {
              "color": "#E5ECF6",
              "width": 0.5
             },
             "pattern": {
              "fillmode": "overlay",
              "size": 10,
              "solidity": 0.2
             }
            },
            "type": "bar"
           }
          ],
          "barpolar": [
           {
            "marker": {
             "line": {
              "color": "#E5ECF6",
              "width": 0.5
             },
             "pattern": {
              "fillmode": "overlay",
              "size": 10,
              "solidity": 0.2
             }
            },
            "type": "barpolar"
           }
          ],
          "carpet": [
           {
            "aaxis": {
             "endlinecolor": "#2a3f5f",
             "gridcolor": "white",
             "linecolor": "white",
             "minorgridcolor": "white",
             "startlinecolor": "#2a3f5f"
            },
            "baxis": {
             "endlinecolor": "#2a3f5f",
             "gridcolor": "white",
             "linecolor": "white",
             "minorgridcolor": "white",
             "startlinecolor": "#2a3f5f"
            },
            "type": "carpet"
           }
          ],
          "choropleth": [
           {
            "colorbar": {
             "outlinewidth": 0,
             "ticks": ""
            },
            "type": "choropleth"
           }
          ],
          "contour": [
           {
            "colorbar": {
             "outlinewidth": 0,
             "ticks": ""
            },
            "colorscale": [
             [
              0,
              "#0d0887"
             ],
             [
              0.1111111111111111,
              "#46039f"
             ],
             [
              0.2222222222222222,
              "#7201a8"
             ],
             [
              0.3333333333333333,
              "#9c179e"
             ],
             [
              0.4444444444444444,
              "#bd3786"
             ],
             [
              0.5555555555555556,
              "#d8576b"
             ],
             [
              0.6666666666666666,
              "#ed7953"
             ],
             [
              0.7777777777777778,
              "#fb9f3a"
             ],
             [
              0.8888888888888888,
              "#fdca26"
             ],
             [
              1,
              "#f0f921"
             ]
            ],
            "type": "contour"
           }
          ],
          "contourcarpet": [
           {
            "colorbar": {
             "outlinewidth": 0,
             "ticks": ""
            },
            "type": "contourcarpet"
           }
          ],
          "heatmap": [
           {
            "colorbar": {
             "outlinewidth": 0,
             "ticks": ""
            },
            "colorscale": [
             [
              0,
              "#0d0887"
             ],
             [
              0.1111111111111111,
              "#46039f"
             ],
             [
              0.2222222222222222,
              "#7201a8"
             ],
             [
              0.3333333333333333,
              "#9c179e"
             ],
             [
              0.4444444444444444,
              "#bd3786"
             ],
             [
              0.5555555555555556,
              "#d8576b"
             ],
             [
              0.6666666666666666,
              "#ed7953"
             ],
             [
              0.7777777777777778,
              "#fb9f3a"
             ],
             [
              0.8888888888888888,
              "#fdca26"
             ],
             [
              1,
              "#f0f921"
             ]
            ],
            "type": "heatmap"
           }
          ],
          "heatmapgl": [
           {
            "colorbar": {
             "outlinewidth": 0,
             "ticks": ""
            },
            "colorscale": [
             [
              0,
              "#0d0887"
             ],
             [
              0.1111111111111111,
              "#46039f"
             ],
             [
              0.2222222222222222,
              "#7201a8"
             ],
             [
              0.3333333333333333,
              "#9c179e"
             ],
             [
              0.4444444444444444,
              "#bd3786"
             ],
             [
              0.5555555555555556,
              "#d8576b"
             ],
             [
              0.6666666666666666,
              "#ed7953"
             ],
             [
              0.7777777777777778,
              "#fb9f3a"
             ],
             [
              0.8888888888888888,
              "#fdca26"
             ],
             [
              1,
              "#f0f921"
             ]
            ],
            "type": "heatmapgl"
           }
          ],
          "histogram": [
           {
            "marker": {
             "pattern": {
              "fillmode": "overlay",
              "size": 10,
              "solidity": 0.2
             }
            },
            "type": "histogram"
           }
          ],
          "histogram2d": [
           {
            "colorbar": {
             "outlinewidth": 0,
             "ticks": ""
            },
            "colorscale": [
             [
              0,
              "#0d0887"
             ],
             [
              0.1111111111111111,
              "#46039f"
             ],
             [
              0.2222222222222222,
              "#7201a8"
             ],
             [
              0.3333333333333333,
              "#9c179e"
             ],
             [
              0.4444444444444444,
              "#bd3786"
             ],
             [
              0.5555555555555556,
              "#d8576b"
             ],
             [
              0.6666666666666666,
              "#ed7953"
             ],
             [
              0.7777777777777778,
              "#fb9f3a"
             ],
             [
              0.8888888888888888,
              "#fdca26"
             ],
             [
              1,
              "#f0f921"
             ]
            ],
            "type": "histogram2d"
           }
          ],
          "histogram2dcontour": [
           {
            "colorbar": {
             "outlinewidth": 0,
             "ticks": ""
            },
            "colorscale": [
             [
              0,
              "#0d0887"
             ],
             [
              0.1111111111111111,
              "#46039f"
             ],
             [
              0.2222222222222222,
              "#7201a8"
             ],
             [
              0.3333333333333333,
              "#9c179e"
             ],
             [
              0.4444444444444444,
              "#bd3786"
             ],
             [
              0.5555555555555556,
              "#d8576b"
             ],
             [
              0.6666666666666666,
              "#ed7953"
             ],
             [
              0.7777777777777778,
              "#fb9f3a"
             ],
             [
              0.8888888888888888,
              "#fdca26"
             ],
             [
              1,
              "#f0f921"
             ]
            ],
            "type": "histogram2dcontour"
           }
          ],
          "mesh3d": [
           {
            "colorbar": {
             "outlinewidth": 0,
             "ticks": ""
            },
            "type": "mesh3d"
           }
          ],
          "parcoords": [
           {
            "line": {
             "colorbar": {
              "outlinewidth": 0,
              "ticks": ""
             }
            },
            "type": "parcoords"
           }
          ],
          "pie": [
           {
            "automargin": true,
            "type": "pie"
           }
          ],
          "scatter": [
           {
            "fillpattern": {
             "fillmode": "overlay",
             "size": 10,
             "solidity": 0.2
            },
            "type": "scatter"
           }
          ],
          "scatter3d": [
           {
            "line": {
             "colorbar": {
              "outlinewidth": 0,
              "ticks": ""
             }
            },
            "marker": {
             "colorbar": {
              "outlinewidth": 0,
              "ticks": ""
             }
            },
            "type": "scatter3d"
           }
          ],
          "scattercarpet": [
           {
            "marker": {
             "colorbar": {
              "outlinewidth": 0,
              "ticks": ""
             }
            },
            "type": "scattercarpet"
           }
          ],
          "scattergeo": [
           {
            "marker": {
             "colorbar": {
              "outlinewidth": 0,
              "ticks": ""
             }
            },
            "type": "scattergeo"
           }
          ],
          "scattergl": [
           {
            "marker": {
             "colorbar": {
              "outlinewidth": 0,
              "ticks": ""
             }
            },
            "type": "scattergl"
           }
          ],
          "scattermapbox": [
           {
            "marker": {
             "colorbar": {
              "outlinewidth": 0,
              "ticks": ""
             }
            },
            "type": "scattermapbox"
           }
          ],
          "scatterpolar": [
           {
            "marker": {
             "colorbar": {
              "outlinewidth": 0,
              "ticks": ""
             }
            },
            "type": "scatterpolar"
           }
          ],
          "scatterpolargl": [
           {
            "marker": {
             "colorbar": {
              "outlinewidth": 0,
              "ticks": ""
             }
            },
            "type": "scatterpolargl"
           }
          ],
          "scatterternary": [
           {
            "marker": {
             "colorbar": {
              "outlinewidth": 0,
              "ticks": ""
             }
            },
            "type": "scatterternary"
           }
          ],
          "surface": [
           {
            "colorbar": {
             "outlinewidth": 0,
             "ticks": ""
            },
            "colorscale": [
             [
              0,
              "#0d0887"
             ],
             [
              0.1111111111111111,
              "#46039f"
             ],
             [
              0.2222222222222222,
              "#7201a8"
             ],
             [
              0.3333333333333333,
              "#9c179e"
             ],
             [
              0.4444444444444444,
              "#bd3786"
             ],
             [
              0.5555555555555556,
              "#d8576b"
             ],
             [
              0.6666666666666666,
              "#ed7953"
             ],
             [
              0.7777777777777778,
              "#fb9f3a"
             ],
             [
              0.8888888888888888,
              "#fdca26"
             ],
             [
              1,
              "#f0f921"
             ]
            ],
            "type": "surface"
           }
          ],
          "table": [
           {
            "cells": {
             "fill": {
              "color": "#EBF0F8"
             },
             "line": {
              "color": "white"
             }
            },
            "header": {
             "fill": {
              "color": "#C8D4E3"
             },
             "line": {
              "color": "white"
             }
            },
            "type": "table"
           }
          ]
         },
         "layout": {
          "annotationdefaults": {
           "arrowcolor": "#2a3f5f",
           "arrowhead": 0,
           "arrowwidth": 1
          },
          "autotypenumbers": "strict",
          "coloraxis": {
           "colorbar": {
            "outlinewidth": 0,
            "ticks": ""
           }
          },
          "colorscale": {
           "diverging": [
            [
             0,
             "#8e0152"
            ],
            [
             0.1,
             "#c51b7d"
            ],
            [
             0.2,
             "#de77ae"
            ],
            [
             0.3,
             "#f1b6da"
            ],
            [
             0.4,
             "#fde0ef"
            ],
            [
             0.5,
             "#f7f7f7"
            ],
            [
             0.6,
             "#e6f5d0"
            ],
            [
             0.7,
             "#b8e186"
            ],
            [
             0.8,
             "#7fbc41"
            ],
            [
             0.9,
             "#4d9221"
            ],
            [
             1,
             "#276419"
            ]
           ],
           "sequential": [
            [
             0,
             "#0d0887"
            ],
            [
             0.1111111111111111,
             "#46039f"
            ],
            [
             0.2222222222222222,
             "#7201a8"
            ],
            [
             0.3333333333333333,
             "#9c179e"
            ],
            [
             0.4444444444444444,
             "#bd3786"
            ],
            [
             0.5555555555555556,
             "#d8576b"
            ],
            [
             0.6666666666666666,
             "#ed7953"
            ],
            [
             0.7777777777777778,
             "#fb9f3a"
            ],
            [
             0.8888888888888888,
             "#fdca26"
            ],
            [
             1,
             "#f0f921"
            ]
           ],
           "sequentialminus": [
            [
             0,
             "#0d0887"
            ],
            [
             0.1111111111111111,
             "#46039f"
            ],
            [
             0.2222222222222222,
             "#7201a8"
            ],
            [
             0.3333333333333333,
             "#9c179e"
            ],
            [
             0.4444444444444444,
             "#bd3786"
            ],
            [
             0.5555555555555556,
             "#d8576b"
            ],
            [
             0.6666666666666666,
             "#ed7953"
            ],
            [
             0.7777777777777778,
             "#fb9f3a"
            ],
            [
             0.8888888888888888,
             "#fdca26"
            ],
            [
             1,
             "#f0f921"
            ]
           ]
          },
          "colorway": [
           "#636efa",
           "#EF553B",
           "#00cc96",
           "#ab63fa",
           "#FFA15A",
           "#19d3f3",
           "#FF6692",
           "#B6E880",
           "#FF97FF",
           "#FECB52"
          ],
          "font": {
           "color": "#2a3f5f"
          },
          "geo": {
           "bgcolor": "white",
           "lakecolor": "white",
           "landcolor": "#E5ECF6",
           "showlakes": true,
           "showland": true,
           "subunitcolor": "white"
          },
          "hoverlabel": {
           "align": "left"
          },
          "hovermode": "closest",
          "mapbox": {
           "style": "light"
          },
          "paper_bgcolor": "white",
          "plot_bgcolor": "#E5ECF6",
          "polar": {
           "angularaxis": {
            "gridcolor": "white",
            "linecolor": "white",
            "ticks": ""
           },
           "bgcolor": "#E5ECF6",
           "radialaxis": {
            "gridcolor": "white",
            "linecolor": "white",
            "ticks": ""
           }
          },
          "scene": {
           "xaxis": {
            "backgroundcolor": "#E5ECF6",
            "gridcolor": "white",
            "gridwidth": 2,
            "linecolor": "white",
            "showbackground": true,
            "ticks": "",
            "zerolinecolor": "white"
           },
           "yaxis": {
            "backgroundcolor": "#E5ECF6",
            "gridcolor": "white",
            "gridwidth": 2,
            "linecolor": "white",
            "showbackground": true,
            "ticks": "",
            "zerolinecolor": "white"
           },
           "zaxis": {
            "backgroundcolor": "#E5ECF6",
            "gridcolor": "white",
            "gridwidth": 2,
            "linecolor": "white",
            "showbackground": true,
            "ticks": "",
            "zerolinecolor": "white"
           }
          },
          "shapedefaults": {
           "line": {
            "color": "#2a3f5f"
           }
          },
          "ternary": {
           "aaxis": {
            "gridcolor": "white",
            "linecolor": "white",
            "ticks": ""
           },
           "baxis": {
            "gridcolor": "white",
            "linecolor": "white",
            "ticks": ""
           },
           "bgcolor": "#E5ECF6",
           "caxis": {
            "gridcolor": "white",
            "linecolor": "white",
            "ticks": ""
           }
          },
          "title": {
           "x": 0.05
          },
          "xaxis": {
           "automargin": true,
           "gridcolor": "white",
           "linecolor": "white",
           "ticks": "",
           "title": {
            "standoff": 15
           },
           "zerolinecolor": "white",
           "zerolinewidth": 2
          },
          "yaxis": {
           "automargin": true,
           "gridcolor": "white",
           "linecolor": "white",
           "ticks": "",
           "title": {
            "standoff": 15
           },
           "zerolinecolor": "white",
           "zerolinewidth": 2
          }
         }
        },
        "title": {
         "text": "Average Citations for Each Publication"
        },
        "xaxis": {
         "anchor": "y",
         "domain": [
          0,
          1
         ],
         "title": {
          "text": "Publication"
         }
        },
        "yaxis": {
         "anchor": "x",
         "domain": [
          0,
          1
         ],
         "title": {
          "text": "Average Citations"
         }
        }
       }
      }
     },
     "metadata": {},
     "output_type": "display_data"
    }
   ],
   "source": [
    "# Create a bar chart using Plotly\n",
    "fig = px.bar(avg_citations_per_publication, x='Publication', y='Num_citation', \n",
    "             labels={'Publication': 'Publication', 'Num_citation': 'Average Citations'},\n",
    "             title='Average Citations for Each Publication')\n",
    "fig.show()"
   ]
  },
  {
   "cell_type": "code",
   "execution_count": 33,
   "metadata": {},
   "outputs": [
    {
     "data": {
      "application/vnd.plotly.v1+json": {
       "config": {
        "plotlyServerURL": "https://plot.ly"
       },
       "data": [
        {
         "hovertemplate": "Publication=%{x}<br>Average Citations=%{marker.size}<extra></extra>",
         "legendgroup": "46.28.109.63",
         "marker": {
          "color": "#636efa",
          "size": [
           5
          ],
          "sizemode": "area",
          "sizeref": 33.8875,
          "symbol": "circle"
         },
         "mode": "markers",
         "name": "46.28.109.63",
         "orientation": "v",
         "showlegend": true,
         "type": "scatter",
         "x": [
          "46.28.109.63"
         ],
         "xaxis": "x",
         "y": [
          5
         ],
         "yaxis": "y"
        },
        {
         "hovertemplate": "Publication=%{x}<br>Average Citations=%{marker.size}<extra></extra>",
         "legendgroup": "APS",
         "marker": {
          "color": "#EF553B",
          "size": [
           590.7857142857143
          ],
          "sizemode": "area",
          "sizeref": 33.8875,
          "symbol": "circle"
         },
         "mode": "markers",
         "name": "APS",
         "orientation": "v",
         "showlegend": true,
         "type": "scatter",
         "x": [
          "APS"
         ],
         "xaxis": "x",
         "y": [
          590.7857142857143
         ],
         "yaxis": "y"
        },
        {
         "hovertemplate": "Publication=%{x}<br>Average Citations=%{marker.size}<extra></extra>",
         "legendgroup": "Citeseer",
         "marker": {
          "color": "#00cc96",
          "size": [
           32
          ],
          "sizemode": "area",
          "sizeref": 33.8875,
          "symbol": "circle"
         },
         "mode": "markers",
         "name": "Citeseer",
         "orientation": "v",
         "showlegend": true,
         "type": "scatter",
         "x": [
          "Citeseer"
         ],
         "xaxis": "x",
         "y": [
          32
         ],
         "yaxis": "y"
        },
        {
         "hovertemplate": "Publication=%{x}<br>Average Citations=%{marker.size}<extra></extra>",
         "legendgroup": "Elsevier",
         "marker": {
          "color": "#ab63fa",
          "size": [
           120.0603448275862
          ],
          "sizemode": "area",
          "sizeref": 33.8875,
          "symbol": "circle"
         },
         "mode": "markers",
         "name": "Elsevier",
         "orientation": "v",
         "showlegend": true,
         "type": "scatter",
         "x": [
          "Elsevier"
         ],
         "xaxis": "x",
         "y": [
          120.0603448275862
         ],
         "yaxis": "y"
        },
        {
         "hovertemplate": "Publication=%{x}<br>Average Citations=%{marker.size}<extra></extra>",
         "legendgroup": "Francis",
         "marker": {
          "color": "#FFA15A",
          "size": [
           29.666666666666668
          ],
          "sizemode": "area",
          "sizeref": 33.8875,
          "symbol": "circle"
         },
         "mode": "markers",
         "name": "Francis",
         "orientation": "v",
         "showlegend": true,
         "type": "scatter",
         "x": [
          "Francis"
         ],
         "xaxis": "x",
         "y": [
          29.666666666666668
         ],
         "yaxis": "y"
        },
        {
         "hovertemplate": "Publication=%{x}<br>Average Citations=%{marker.size}<extra></extra>",
         "legendgroup": "IET",
         "marker": {
          "color": "#19d3f3",
          "size": [
           17
          ],
          "sizemode": "area",
          "sizeref": 33.8875,
          "symbol": "circle"
         },
         "mode": "markers",
         "name": "IET",
         "orientation": "v",
         "showlegend": true,
         "type": "scatter",
         "x": [
          "IET"
         ],
         "xaxis": "x",
         "y": [
          17
         ],
         "yaxis": "y"
        },
        {
         "hovertemplate": "Publication=%{x}<br>Average Citations=%{marker.size}<extra></extra>",
         "legendgroup": "JSTOR",
         "marker": {
          "color": "#FF6692",
          "size": [
           429.75
          ],
          "sizemode": "area",
          "sizeref": 33.8875,
          "symbol": "circle"
         },
         "mode": "markers",
         "name": "JSTOR",
         "orientation": "v",
         "showlegend": true,
         "type": "scatter",
         "x": [
          "JSTOR"
         ],
         "xaxis": "x",
         "y": [
          429.75
         ],
         "yaxis": "y"
        },
        {
         "hovertemplate": "Publication=%{x}<br>Average Citations=%{marker.size}<extra></extra>",
         "legendgroup": "Library",
         "marker": {
          "color": "#B6E880",
          "size": [
           234.73076923076923
          ],
          "sizemode": "area",
          "sizeref": 33.8875,
          "symbol": "circle"
         },
         "mode": "markers",
         "name": "Library",
         "orientation": "v",
         "showlegend": true,
         "type": "scatter",
         "x": [
          "Library"
         ],
         "xaxis": "x",
         "y": [
          234.73076923076923
         ],
         "yaxis": "y"
        },
        {
         "hovertemplate": "Publication=%{x}<br>Average Citations=%{marker.size}<extra></extra>",
         "legendgroup": "Publications",
         "marker": {
          "color": "#FF97FF",
          "size": [
           275.2
          ],
          "sizemode": "area",
          "sizeref": 33.8875,
          "symbol": "circle"
         },
         "mode": "markers",
         "name": "Publications",
         "orientation": "v",
         "showlegend": true,
         "type": "scatter",
         "x": [
          "Publications"
         ],
         "xaxis": "x",
         "y": [
          275.2
         ],
         "yaxis": "y"
        },
        {
         "hovertemplate": "Publication=%{x}<br>Average Citations=%{marker.size}<extra></extra>",
         "legendgroup": "SIAM",
         "marker": {
          "color": "#FECB52",
          "size": [
           404.75
          ],
          "sizemode": "area",
          "sizeref": 33.8875,
          "symbol": "circle"
         },
         "mode": "markers",
         "name": "SIAM",
         "orientation": "v",
         "showlegend": true,
         "type": "scatter",
         "x": [
          "SIAM"
         ],
         "xaxis": "x",
         "y": [
          404.75
         ],
         "yaxis": "y"
        },
        {
         "hovertemplate": "Publication=%{x}<br>Average Citations=%{marker.size}<extra></extra>",
         "legendgroup": "Sciences",
         "marker": {
          "color": "#636efa",
          "size": [
           13555
          ],
          "sizemode": "area",
          "sizeref": 33.8875,
          "symbol": "circle"
         },
         "mode": "markers",
         "name": "Sciences",
         "orientation": "v",
         "showlegend": true,
         "type": "scatter",
         "x": [
          "Sciences"
         ],
         "xaxis": "x",
         "y": [
          13555
         ],
         "yaxis": "y"
        },
        {
         "hovertemplate": "Publication=%{x}<br>Average Citations=%{marker.size}<extra></extra>",
         "legendgroup": "Scientific",
         "marker": {
          "color": "#EF553B",
          "size": [
           40.5
          ],
          "sizemode": "area",
          "sizeref": 33.8875,
          "symbol": "circle"
         },
         "mode": "markers",
         "name": "Scientific",
         "orientation": "v",
         "showlegend": true,
         "type": "scatter",
         "x": [
          "Scientific"
         ],
         "xaxis": "x",
         "y": [
          40.5
         ],
         "yaxis": "y"
        },
        {
         "hovertemplate": "Publication=%{x}<br>Average Citations=%{marker.size}<extra></extra>",
         "legendgroup": "Springer",
         "marker": {
          "color": "#00cc96",
          "size": [
           121.53191489361703
          ],
          "sizemode": "area",
          "sizeref": 33.8875,
          "symbol": "circle"
         },
         "mode": "markers",
         "name": "Springer",
         "orientation": "v",
         "showlegend": true,
         "type": "scatter",
         "x": [
          "Springer"
         ],
         "xaxis": "x",
         "y": [
          121.53191489361703
         ],
         "yaxis": "y"
        },
        {
         "hovertemplate": "Publication=%{x}<br>Average Citations=%{marker.size}<extra></extra>",
         "legendgroup": "academia.edu",
         "marker": {
          "color": "#ab63fa",
          "size": [
           25.666666666666668
          ],
          "sizemode": "area",
          "sizeref": 33.8875,
          "symbol": "circle"
         },
         "mode": "markers",
         "name": "academia.edu",
         "orientation": "v",
         "showlegend": true,
         "type": "scatter",
         "x": [
          "academia.edu"
         ],
         "xaxis": "x",
         "y": [
          25.666666666666668
         ],
         "yaxis": "y"
        },
        {
         "hovertemplate": "Publication=%{x}<br>Average Citations=%{marker.size}<extra></extra>",
         "legendgroup": "academic.oup.com",
         "marker": {
          "color": "#FFA15A",
          "size": [
           64.88888888888889
          ],
          "sizemode": "area",
          "sizeref": 33.8875,
          "symbol": "circle"
         },
         "mode": "markers",
         "name": "academic.oup.com",
         "orientation": "v",
         "showlegend": true,
         "type": "scatter",
         "x": [
          "academic.oup.com"
         ],
         "xaxis": "x",
         "y": [
          64.88888888888889
         ],
         "yaxis": "y"
        },
        {
         "hovertemplate": "Publication=%{x}<br>Average Citations=%{marker.size}<extra></extra>",
         "legendgroup": "ams.org",
         "marker": {
          "color": "#19d3f3",
          "size": [
           59
          ],
          "sizemode": "area",
          "sizeref": 33.8875,
          "symbol": "circle"
         },
         "mode": "markers",
         "name": "ams.org",
         "orientation": "v",
         "showlegend": true,
         "type": "scatter",
         "x": [
          "ams.org"
         ],
         "xaxis": "x",
         "y": [
          59
         ],
         "yaxis": "y"
        },
        {
         "hovertemplate": "Publication=%{x}<br>Average Citations=%{marker.size}<extra></extra>",
         "legendgroup": "anale-informatica.tibiscus.ro",
         "marker": {
          "color": "#FF6692",
          "size": [
           1
          ],
          "sizemode": "area",
          "sizeref": 33.8875,
          "symbol": "circle"
         },
         "mode": "markers",
         "name": "anale-informatica.tibiscus.ro",
         "orientation": "v",
         "showlegend": true,
         "type": "scatter",
         "x": [
          "anale-informatica.tibiscus.ro"
         ],
         "xaxis": "x",
         "y": [
          1
         ],
         "yaxis": "y"
        },
        {
         "hovertemplate": "Publication=%{x}<br>Average Citations=%{marker.size}<extra></extra>",
         "legendgroup": "arc.aiaa.org",
         "marker": {
          "color": "#B6E880",
          "size": [
           91.14285714285714
          ],
          "sizemode": "area",
          "sizeref": 33.8875,
          "symbol": "circle"
         },
         "mode": "markers",
         "name": "arc.aiaa.org",
         "orientation": "v",
         "showlegend": true,
         "type": "scatter",
         "x": [
          "arc.aiaa.org"
         ],
         "xaxis": "x",
         "y": [
          91.14285714285714
         ],
         "yaxis": "y"
        },
        {
         "hovertemplate": "Publication=%{x}<br>Average Citations=%{marker.size}<extra></extra>",
         "legendgroup": "arxiv.org",
         "marker": {
          "color": "#FF97FF",
          "size": [
           41.81818181818182
          ],
          "sizemode": "area",
          "sizeref": 33.8875,
          "symbol": "circle"
         },
         "mode": "markers",
         "name": "arxiv.org",
         "orientation": "v",
         "showlegend": true,
         "type": "scatter",
         "x": [
          "arxiv.org"
         ],
         "xaxis": "x",
         "y": [
          41.81818181818182
         ],
         "yaxis": "y"
        },
        {
         "hovertemplate": "Publication=%{x}<br>Average Citations=%{marker.size}<extra></extra>",
         "legendgroup": "ascelibrary.org",
         "marker": {
          "color": "#FECB52",
          "size": [
           22
          ],
          "sizemode": "area",
          "sizeref": 33.8875,
          "symbol": "circle"
         },
         "mode": "markers",
         "name": "ascelibrary.org",
         "orientation": "v",
         "showlegend": true,
         "type": "scatter",
         "x": [
          "ascelibrary.org"
         ],
         "xaxis": "x",
         "y": [
          22
         ],
         "yaxis": "y"
        },
        {
         "hovertemplate": "Publication=%{x}<br>Average Citations=%{marker.size}<extra></extra>",
         "legendgroup": "asmedigitalcollection.asme.org",
         "marker": {
          "color": "#636efa",
          "size": [
           99.4
          ],
          "sizemode": "area",
          "sizeref": 33.8875,
          "symbol": "circle"
         },
         "mode": "markers",
         "name": "asmedigitalcollection.asme.org",
         "orientation": "v",
         "showlegend": true,
         "type": "scatter",
         "x": [
          "asmedigitalcollection.asme.org"
         ],
         "xaxis": "x",
         "y": [
          99.4
         ],
         "yaxis": "y"
        },
        {
         "hovertemplate": "Publication=%{x}<br>Average Citations=%{marker.size}<extra></extra>",
         "legendgroup": "atcm.mathandtech.org",
         "marker": {
          "color": "#EF553B",
          "size": [
           1
          ],
          "sizemode": "area",
          "sizeref": 33.8875,
          "symbol": "circle"
         },
         "mode": "markers",
         "name": "atcm.mathandtech.org",
         "orientation": "v",
         "showlegend": true,
         "type": "scatter",
         "x": [
          "atcm.mathandtech.org"
         ],
         "xaxis": "x",
         "y": [
          1
         ],
         "yaxis": "y"
        },
        {
         "hovertemplate": "Publication=%{x}<br>Average Citations=%{marker.size}<extra></extra>",
         "legendgroup": "bibliotekanauki.pl",
         "marker": {
          "color": "#00cc96",
          "size": [
           17
          ],
          "sizemode": "area",
          "sizeref": 33.8875,
          "symbol": "circle"
         },
         "mode": "markers",
         "name": "bibliotekanauki.pl",
         "orientation": "v",
         "showlegend": true,
         "type": "scatter",
         "x": [
          "bibliotekanauki.pl"
         ],
         "xaxis": "x",
         "y": [
          17
         ],
         "yaxis": "y"
        },
        {
         "hovertemplate": "Publication=%{x}<br>Average Citations=%{marker.size}<extra></extra>",
         "legendgroup": "books.google.com",
         "marker": {
          "color": "#ab63fa",
          "size": [
           408.5
          ],
          "sizemode": "area",
          "sizeref": 33.8875,
          "symbol": "circle"
         },
         "mode": "markers",
         "name": "books.google.com",
         "orientation": "v",
         "showlegend": true,
         "type": "scatter",
         "x": [
          "books.google.com"
         ],
         "xaxis": "x",
         "y": [
          408.5
         ],
         "yaxis": "y"
        },
        {
         "hovertemplate": "Publication=%{x}<br>Average Citations=%{marker.size}<extra></extra>",
         "legendgroup": "cambridge.org",
         "marker": {
          "color": "#FFA15A",
          "size": [
           139
          ],
          "sizemode": "area",
          "sizeref": 33.8875,
          "symbol": "circle"
         },
         "mode": "markers",
         "name": "cambridge.org",
         "orientation": "v",
         "showlegend": true,
         "type": "scatter",
         "x": [
          "cambridge.org"
         ],
         "xaxis": "x",
         "y": [
          139
         ],
         "yaxis": "y"
        },
        {
         "hovertemplate": "Publication=%{x}<br>Average Citations=%{marker.size}<extra></extra>",
         "legendgroup": "ch.whu.edu.cn",
         "marker": {
          "color": "#19d3f3",
          "size": [
           1
          ],
          "sizemode": "area",
          "sizeref": 33.8875,
          "symbol": "circle"
         },
         "mode": "markers",
         "name": "ch.whu.edu.cn",
         "orientation": "v",
         "showlegend": true,
         "type": "scatter",
         "x": [
          "ch.whu.edu.cn"
         ],
         "xaxis": "x",
         "y": [
          1
         ],
         "yaxis": "y"
        },
        {
         "hovertemplate": "Publication=%{x}<br>Average Citations=%{marker.size}<extra></extra>",
         "legendgroup": "content.iospress.com",
         "marker": {
          "color": "#FF6692",
          "size": [
           881
          ],
          "sizemode": "area",
          "sizeref": 33.8875,
          "symbol": "circle"
         },
         "mode": "markers",
         "name": "content.iospress.com",
         "orientation": "v",
         "showlegend": true,
         "type": "scatter",
         "x": [
          "content.iospress.com"
         ],
         "xaxis": "x",
         "y": [
          881
         ],
         "yaxis": "y"
        },
        {
         "hovertemplate": "Publication=%{x}<br>Average Citations=%{marker.size}<extra></extra>",
         "legendgroup": "core.ac.uk",
         "marker": {
          "color": "#B6E880",
          "size": [
           45
          ],
          "sizemode": "area",
          "sizeref": 33.8875,
          "symbol": "circle"
         },
         "mode": "markers",
         "name": "core.ac.uk",
         "orientation": "v",
         "showlegend": true,
         "type": "scatter",
         "x": [
          "core.ac.uk"
         ],
         "xaxis": "x",
         "y": [
          45
         ],
         "yaxis": "y"
        },
        {
         "hovertemplate": "Publication=%{x}<br>Average Citations=%{marker.size}<extra></extra>",
         "legendgroup": "degruyter.com",
         "marker": {
          "color": "#FF97FF",
          "size": [
           3
          ],
          "sizemode": "area",
          "sizeref": 33.8875,
          "symbol": "circle"
         },
         "mode": "markers",
         "name": "degruyter.com",
         "orientation": "v",
         "showlegend": true,
         "type": "scatter",
         "x": [
          "degruyter.com"
         ],
         "xaxis": "x",
         "y": [
          3
         ],
         "yaxis": "y"
        },
        {
         "hovertemplate": "Publication=%{x}<br>Average Citations=%{marker.size}<extra></extra>",
         "legendgroup": "dialnet.unirioja.es",
         "marker": {
          "color": "#FECB52",
          "size": [
           2
          ],
          "sizemode": "area",
          "sizeref": 33.8875,
          "symbol": "circle"
         },
         "mode": "markers",
         "name": "dialnet.unirioja.es",
         "orientation": "v",
         "showlegend": true,
         "type": "scatter",
         "x": [
          "dialnet.unirioja.es"
         ],
         "xaxis": "x",
         "y": [
          2
         ],
         "yaxis": "y"
        },
        {
         "hovertemplate": "Publication=%{x}<br>Average Citations=%{marker.size}<extra></extra>",
         "legendgroup": "direct.mit.edu",
         "marker": {
          "color": "#636efa",
          "size": [
           28
          ],
          "sizemode": "area",
          "sizeref": 33.8875,
          "symbol": "circle"
         },
         "mode": "markers",
         "name": "direct.mit.edu",
         "orientation": "v",
         "showlegend": true,
         "type": "scatter",
         "x": [
          "direct.mit.edu"
         ],
         "xaxis": "x",
         "y": [
          28
         ],
         "yaxis": "y"
        },
        {
         "hovertemplate": "Publication=%{x}<br>Average Citations=%{marker.size}<extra></extra>",
         "legendgroup": "diva-portal.org",
         "marker": {
          "color": "#EF553B",
          "size": [
           1
          ],
          "sizemode": "area",
          "sizeref": 33.8875,
          "symbol": "circle"
         },
         "mode": "markers",
         "name": "diva-portal.org",
         "orientation": "v",
         "showlegend": true,
         "type": "scatter",
         "x": [
          "diva-portal.org"
         ],
         "xaxis": "x",
         "y": [
          1
         ],
         "yaxis": "y"
        },
        {
         "hovertemplate": "Publication=%{x}<br>Average Citations=%{marker.size}<extra></extra>",
         "legendgroup": "dl.acm.org",
         "marker": {
          "color": "#00cc96",
          "size": [
           119.5
          ],
          "sizemode": "area",
          "sizeref": 33.8875,
          "symbol": "circle"
         },
         "mode": "markers",
         "name": "dl.acm.org",
         "orientation": "v",
         "showlegend": true,
         "type": "scatter",
         "x": [
          "dl.acm.org"
         ],
         "xaxis": "x",
         "y": [
          119.5
         ],
         "yaxis": "y"
        },
        {
         "hovertemplate": "Publication=%{x}<br>Average Citations=%{marker.size}<extra></extra>",
         "legendgroup": "dml.mathdoc.fr",
         "marker": {
          "color": "#ab63fa",
          "size": [
           16
          ],
          "sizemode": "area",
          "sizeref": 33.8875,
          "symbol": "circle"
         },
         "mode": "markers",
         "name": "dml.mathdoc.fr",
         "orientation": "v",
         "showlegend": true,
         "type": "scatter",
         "x": [
          "dml.mathdoc.fr"
         ],
         "xaxis": "x",
         "y": [
          16
         ],
         "yaxis": "y"
        },
        {
         "hovertemplate": "Publication=%{x}<br>Average Citations=%{marker.size}<extra></extra>",
         "legendgroup": "doiserbia.nb.rs",
         "marker": {
          "color": "#FFA15A",
          "size": [
           28
          ],
          "sizemode": "area",
          "sizeref": 33.8875,
          "symbol": "circle"
         },
         "mode": "markers",
         "name": "doiserbia.nb.rs",
         "orientation": "v",
         "showlegend": true,
         "type": "scatter",
         "x": [
          "doiserbia.nb.rs"
         ],
         "xaxis": "x",
         "y": [
          28
         ],
         "yaxis": "y"
        },
        {
         "hovertemplate": "Publication=%{x}<br>Average Citations=%{marker.size}<extra></extra>",
         "legendgroup": "elibrary.ru",
         "marker": {
          "color": "#19d3f3",
          "size": [
           10
          ],
          "sizemode": "area",
          "sizeref": 33.8875,
          "symbol": "circle"
         },
         "mode": "markers",
         "name": "elibrary.ru",
         "orientation": "v",
         "showlegend": true,
         "type": "scatter",
         "x": [
          "elibrary.ru"
         ],
         "xaxis": "x",
         "y": [
          10
         ],
         "yaxis": "y"
        },
        {
         "hovertemplate": "Publication=%{x}<br>Average Citations=%{marker.size}<extra></extra>",
         "legendgroup": "emerald.com",
         "marker": {
          "color": "#FF6692",
          "size": [
           4
          ],
          "sizemode": "area",
          "sizeref": 33.8875,
          "symbol": "circle"
         },
         "mode": "markers",
         "name": "emerald.com",
         "orientation": "v",
         "showlegend": true,
         "type": "scatter",
         "x": [
          "emerald.com"
         ],
         "xaxis": "x",
         "y": [
          4
         ],
         "yaxis": "y"
        },
        {
         "hovertemplate": "Publication=%{x}<br>Average Citations=%{marker.size}<extra></extra>",
         "legendgroup": "emis.de",
         "marker": {
          "color": "#B6E880",
          "size": [
           11
          ],
          "sizemode": "area",
          "sizeref": 33.8875,
          "symbol": "circle"
         },
         "mode": "markers",
         "name": "emis.de",
         "orientation": "v",
         "showlegend": true,
         "type": "scatter",
         "x": [
          "emis.de"
         ],
         "xaxis": "x",
         "y": [
          11
         ],
         "yaxis": "y"
        },
        {
         "hovertemplate": "Publication=%{x}<br>Average Citations=%{marker.size}<extra></extra>",
         "legendgroup": "etd.uwc.ac.za",
         "marker": {
          "color": "#FF97FF",
          "size": [
           9
          ],
          "sizemode": "area",
          "sizeref": 33.8875,
          "symbol": "circle"
         },
         "mode": "markers",
         "name": "etd.uwc.ac.za",
         "orientation": "v",
         "showlegend": true,
         "type": "scatter",
         "x": [
          "etd.uwc.ac.za"
         ],
         "xaxis": "x",
         "y": [
          9
         ],
         "yaxis": "y"
        },
        {
         "hovertemplate": "Publication=%{x}<br>Average Citations=%{marker.size}<extra></extra>",
         "legendgroup": "grafar.grf.bg.ac.rs",
         "marker": {
          "color": "#FECB52",
          "size": [
           29
          ],
          "sizemode": "area",
          "sizeref": 33.8875,
          "symbol": "circle"
         },
         "mode": "markers",
         "name": "grafar.grf.bg.ac.rs",
         "orientation": "v",
         "showlegend": true,
         "type": "scatter",
         "x": [
          "grafar.grf.bg.ac.rs"
         ],
         "xaxis": "x",
         "y": [
          29
         ],
         "yaxis": "y"
        },
        {
         "hovertemplate": "Publication=%{x}<br>Average Citations=%{marker.size}<extra></extra>",
         "legendgroup": "hal.science",
         "marker": {
          "color": "#636efa",
          "size": [
           4
          ],
          "sizemode": "area",
          "sizeref": 33.8875,
          "symbol": "circle"
         },
         "mode": "markers",
         "name": "hal.science",
         "orientation": "v",
         "showlegend": true,
         "type": "scatter",
         "x": [
          "hal.science"
         ],
         "xaxis": "x",
         "y": [
          4
         ],
         "yaxis": "y"
        },
        {
         "hovertemplate": "Publication=%{x}<br>Average Citations=%{marker.size}<extra></extra>",
         "legendgroup": "hindawi.com",
         "marker": {
          "color": "#EF553B",
          "size": [
           573
          ],
          "sizemode": "area",
          "sizeref": 33.8875,
          "symbol": "circle"
         },
         "mode": "markers",
         "name": "hindawi.com",
         "orientation": "v",
         "showlegend": true,
         "type": "scatter",
         "x": [
          "hindawi.com"
         ],
         "xaxis": "x",
         "y": [
          573
         ],
         "yaxis": "y"
        },
        {
         "hovertemplate": "Publication=%{x}<br>Average Citations=%{marker.size}<extra></extra>",
         "legendgroup": "ieeexplore.ieee.org",
         "marker": {
          "color": "#00cc96",
          "size": [
           156.81176470588235
          ],
          "sizemode": "area",
          "sizeref": 33.8875,
          "symbol": "circle"
         },
         "mode": "markers",
         "name": "ieeexplore.ieee.org",
         "orientation": "v",
         "showlegend": true,
         "type": "scatter",
         "x": [
          "ieeexplore.ieee.org"
         ],
         "xaxis": "x",
         "y": [
          156.81176470588235
         ],
         "yaxis": "y"
        },
        {
         "hovertemplate": "Publication=%{x}<br>Average Citations=%{marker.size}<extra></extra>",
         "legendgroup": "ijcaonline.com",
         "marker": {
          "color": "#ab63fa",
          "size": [
           26
          ],
          "sizemode": "area",
          "sizeref": 33.8875,
          "symbol": "circle"
         },
         "mode": "markers",
         "name": "ijcaonline.com",
         "orientation": "v",
         "showlegend": true,
         "type": "scatter",
         "x": [
          "ijcaonline.com"
         ],
         "xaxis": "x",
         "y": [
          26
         ],
         "yaxis": "y"
        },
        {
         "hovertemplate": "Publication=%{x}<br>Average Citations=%{marker.size}<extra></extra>",
         "legendgroup": "infona.pl",
         "marker": {
          "color": "#FFA15A",
          "size": [
           5
          ],
          "sizemode": "area",
          "sizeref": 33.8875,
          "symbol": "circle"
         },
         "mode": "markers",
         "name": "infona.pl",
         "orientation": "v",
         "showlegend": true,
         "type": "scatter",
         "x": [
          "infona.pl"
         ],
         "xaxis": "x",
         "y": [
          5
         ],
         "yaxis": "y"
        },
        {
         "hovertemplate": "Publication=%{x}<br>Average Citations=%{marker.size}<extra></extra>",
         "legendgroup": "ingentaconnect.com",
         "marker": {
          "color": "#19d3f3",
          "size": [
           24.5
          ],
          "sizemode": "area",
          "sizeref": 33.8875,
          "symbol": "circle"
         },
         "mode": "markers",
         "name": "ingentaconnect.com",
         "orientation": "v",
         "showlegend": true,
         "type": "scatter",
         "x": [
          "ingentaconnect.com"
         ],
         "xaxis": "x",
         "y": [
          24.5
         ],
         "yaxis": "y"
        },
        {
         "hovertemplate": "Publication=%{x}<br>Average Citations=%{marker.size}<extra></extra>",
         "legendgroup": "inis.iaea.org",
         "marker": {
          "color": "#FF6692",
          "size": [
           2
          ],
          "sizemode": "area",
          "sizeref": 33.8875,
          "symbol": "circle"
         },
         "mode": "markers",
         "name": "inis.iaea.org",
         "orientation": "v",
         "showlegend": true,
         "type": "scatter",
         "x": [
          "inis.iaea.org"
         ],
         "xaxis": "x",
         "y": [
          2
         ],
         "yaxis": "y"
        },
        {
         "hovertemplate": "Publication=%{x}<br>Average Citations=%{marker.size}<extra></extra>",
         "legendgroup": "iopscience.iop.org",
         "marker": {
          "color": "#B6E880",
          "size": [
           58.1
          ],
          "sizemode": "area",
          "sizeref": 33.8875,
          "symbol": "circle"
         },
         "mode": "markers",
         "name": "iopscience.iop.org",
         "orientation": "v",
         "showlegend": true,
         "type": "scatter",
         "x": [
          "iopscience.iop.org"
         ],
         "xaxis": "x",
         "y": [
          58.1
         ],
         "yaxis": "y"
        },
        {
         "hovertemplate": "Publication=%{x}<br>Average Citations=%{marker.size}<extra></extra>",
         "legendgroup": "jkps.or.kr",
         "marker": {
          "color": "#FF97FF",
          "size": [
           1
          ],
          "sizemode": "area",
          "sizeref": 33.8875,
          "symbol": "circle"
         },
         "mode": "markers",
         "name": "jkps.or.kr",
         "orientation": "v",
         "showlegend": true,
         "type": "scatter",
         "x": [
          "jkps.or.kr"
         ],
         "xaxis": "x",
         "y": [
          1
         ],
         "yaxis": "y"
        },
        {
         "hovertemplate": "Publication=%{x}<br>Average Citations=%{marker.size}<extra></extra>",
         "legendgroup": "jmlr.org",
         "marker": {
          "color": "#FECB52",
          "size": [
           167
          ],
          "sizemode": "area",
          "sizeref": 33.8875,
          "symbol": "circle"
         },
         "mode": "markers",
         "name": "jmlr.org",
         "orientation": "v",
         "showlegend": true,
         "type": "scatter",
         "x": [
          "jmlr.org"
         ],
         "xaxis": "x",
         "y": [
          167
         ],
         "yaxis": "y"
        },
        {
         "hovertemplate": "Publication=%{x}<br>Average Citations=%{marker.size}<extra></extra>",
         "legendgroup": "journals.ametsoc.org",
         "marker": {
          "color": "#636efa",
          "size": [
           234.66666666666666
          ],
          "sizemode": "area",
          "sizeref": 33.8875,
          "symbol": "circle"
         },
         "mode": "markers",
         "name": "journals.ametsoc.org",
         "orientation": "v",
         "showlegend": true,
         "type": "scatter",
         "x": [
          "journals.ametsoc.org"
         ],
         "xaxis": "x",
         "y": [
          234.66666666666666
         ],
         "yaxis": "y"
        },
        {
         "hovertemplate": "Publication=%{x}<br>Average Citations=%{marker.size}<extra></extra>",
         "legendgroup": "journals.plos.org",
         "marker": {
          "color": "#EF553B",
          "size": [
           198
          ],
          "sizemode": "area",
          "sizeref": 33.8875,
          "symbol": "circle"
         },
         "mode": "markers",
         "name": "journals.plos.org",
         "orientation": "v",
         "showlegend": true,
         "type": "scatter",
         "x": [
          "journals.plos.org"
         ],
         "xaxis": "x",
         "y": [
          198
         ],
         "yaxis": "y"
        },
        {
         "hovertemplate": "Publication=%{x}<br>Average Citations=%{marker.size}<extra></extra>",
         "legendgroup": "journals.sagepub.com",
         "marker": {
          "color": "#00cc96",
          "size": [
           114.25
          ],
          "sizemode": "area",
          "sizeref": 33.8875,
          "symbol": "circle"
         },
         "mode": "markers",
         "name": "journals.sagepub.com",
         "orientation": "v",
         "showlegend": true,
         "type": "scatter",
         "x": [
          "journals.sagepub.com"
         ],
         "xaxis": "x",
         "y": [
          114.25
         ],
         "yaxis": "y"
        },
        {
         "hovertemplate": "Publication=%{x}<br>Average Citations=%{marker.size}<extra></extra>",
         "legendgroup": "jp4.journaldephysique.org",
         "marker": {
          "color": "#ab63fa",
          "size": [
           148
          ],
          "sizemode": "area",
          "sizeref": 33.8875,
          "symbol": "circle"
         },
         "mode": "markers",
         "name": "jp4.journaldephysique.org",
         "orientation": "v",
         "showlegend": true,
         "type": "scatter",
         "x": [
          "jp4.journaldephysique.org"
         ],
         "xaxis": "x",
         "y": [
          148
         ],
         "yaxis": "y"
        },
        {
         "hovertemplate": "Publication=%{x}<br>Average Citations=%{marker.size}<extra></extra>",
         "legendgroup": "jurnal.untirta.ac.id",
         "marker": {
          "color": "#FFA15A",
          "size": [
           5
          ],
          "sizemode": "area",
          "sizeref": 33.8875,
          "symbol": "circle"
         },
         "mode": "markers",
         "name": "jurnal.untirta.ac.id",
         "orientation": "v",
         "showlegend": true,
         "type": "scatter",
         "x": [
          "jurnal.untirta.ac.id"
         ],
         "xaxis": "x",
         "y": [
          5
         ],
         "yaxis": "y"
        },
        {
         "hovertemplate": "Publication=%{x}<br>Average Citations=%{marker.size}<extra></extra>",
         "legendgroup": "kar.kent.ac.uk",
         "marker": {
          "color": "#19d3f3",
          "size": [
           1
          ],
          "sizemode": "area",
          "sizeref": 33.8875,
          "symbol": "circle"
         },
         "mode": "markers",
         "name": "kar.kent.ac.uk",
         "orientation": "v",
         "showlegend": true,
         "type": "scatter",
         "x": [
          "kar.kent.ac.uk"
         ],
         "xaxis": "x",
         "y": [
          1
         ],
         "yaxis": "y"
        },
        {
         "hovertemplate": "Publication=%{x}<br>Average Citations=%{marker.size}<extra></extra>",
         "legendgroup": "kleine.mat.uniroma3.it",
         "marker": {
          "color": "#FF6692",
          "size": [
           10
          ],
          "sizemode": "area",
          "sizeref": 33.8875,
          "symbol": "circle"
         },
         "mode": "markers",
         "name": "kleine.mat.uniroma3.it",
         "orientation": "v",
         "showlegend": true,
         "type": "scatter",
         "x": [
          "kleine.mat.uniroma3.it"
         ],
         "xaxis": "x",
         "y": [
          10
         ],
         "yaxis": "y"
        },
        {
         "hovertemplate": "Publication=%{x}<br>Average Citations=%{marker.size}<extra></extra>",
         "legendgroup": "library.iated.org",
         "marker": {
          "color": "#B6E880",
          "size": [
           1
          ],
          "sizemode": "area",
          "sizeref": 33.8875,
          "symbol": "circle"
         },
         "mode": "markers",
         "name": "library.iated.org",
         "orientation": "v",
         "showlegend": true,
         "type": "scatter",
         "x": [
          "library.iated.org"
         ],
         "xaxis": "x",
         "y": [
          1
         ],
         "yaxis": "y"
        },
        {
         "hovertemplate": "Publication=%{x}<br>Average Citations=%{marker.size}<extra></extra>",
         "legendgroup": "library.seg.org",
         "marker": {
          "color": "#FF97FF",
          "size": [
           22.5
          ],
          "sizemode": "area",
          "sizeref": 33.8875,
          "symbol": "circle"
         },
         "mode": "markers",
         "name": "library.seg.org",
         "orientation": "v",
         "showlegend": true,
         "type": "scatter",
         "x": [
          "library.seg.org"
         ],
         "xaxis": "x",
         "y": [
          22.5
         ],
         "yaxis": "y"
        },
        {
         "hovertemplate": "Publication=%{x}<br>Average Citations=%{marker.size}<extra></extra>",
         "legendgroup": "liebertpub.com",
         "marker": {
          "color": "#FECB52",
          "size": [
           121
          ],
          "sizemode": "area",
          "sizeref": 33.8875,
          "symbol": "circle"
         },
         "mode": "markers",
         "name": "liebertpub.com",
         "orientation": "v",
         "showlegend": true,
         "type": "scatter",
         "x": [
          "liebertpub.com"
         ],
         "xaxis": "x",
         "y": [
          121
         ],
         "yaxis": "y"
        },
        {
         "hovertemplate": "Publication=%{x}<br>Average Citations=%{marker.size}<extra></extra>",
         "legendgroup": "malabdali.com",
         "marker": {
          "color": "#636efa",
          "size": [
           104
          ],
          "sizemode": "area",
          "sizeref": 33.8875,
          "symbol": "circle"
         },
         "mode": "markers",
         "name": "malabdali.com",
         "orientation": "v",
         "showlegend": true,
         "type": "scatter",
         "x": [
          "malabdali.com"
         ],
         "xaxis": "x",
         "y": [
          104
         ],
         "yaxis": "y"
        },
        {
         "hovertemplate": "Publication=%{x}<br>Average Citations=%{marker.size}<extra></extra>",
         "legendgroup": "matf.bg.ac.rs",
         "marker": {
          "color": "#EF553B",
          "size": [
           166
          ],
          "sizemode": "area",
          "sizeref": 33.8875,
          "symbol": "circle"
         },
         "mode": "markers",
         "name": "matf.bg.ac.rs",
         "orientation": "v",
         "showlegend": true,
         "type": "scatter",
         "x": [
          "matf.bg.ac.rs"
         ],
         "xaxis": "x",
         "y": [
          166
         ],
         "yaxis": "y"
        },
        {
         "hovertemplate": "Publication=%{x}<br>Average Citations=%{marker.size}<extra></extra>",
         "legendgroup": "math.princeton.edu",
         "marker": {
          "color": "#00cc96",
          "size": [
           2
          ],
          "sizemode": "area",
          "sizeref": 33.8875,
          "symbol": "circle"
         },
         "mode": "markers",
         "name": "math.princeton.edu",
         "orientation": "v",
         "showlegend": true,
         "type": "scatter",
         "x": [
          "math.princeton.edu"
         ],
         "xaxis": "x",
         "y": [
          2
         ],
         "yaxis": "y"
        },
        {
         "hovertemplate": "Publication=%{x}<br>Average Citations=%{marker.size}<extra></extra>",
         "legendgroup": "math.upenn.edu",
         "marker": {
          "color": "#ab63fa",
          "size": [
           20
          ],
          "sizemode": "area",
          "sizeref": 33.8875,
          "symbol": "circle"
         },
         "mode": "markers",
         "name": "math.upenn.edu",
         "orientation": "v",
         "showlegend": true,
         "type": "scatter",
         "x": [
          "math.upenn.edu"
         ],
         "xaxis": "x",
         "y": [
          20
         ],
         "yaxis": "y"
        },
        {
         "hovertemplate": "Publication=%{x}<br>Average Citations=%{marker.size}<extra></extra>",
         "legendgroup": "mdpi.com",
         "marker": {
          "color": "#FFA15A",
          "size": [
           6.666666666666667
          ],
          "sizemode": "area",
          "sizeref": 33.8875,
          "symbol": "circle"
         },
         "mode": "markers",
         "name": "mdpi.com",
         "orientation": "v",
         "showlegend": true,
         "type": "scatter",
         "x": [
          "mdpi.com"
         ],
         "xaxis": "x",
         "y": [
          6.666666666666667
         ],
         "yaxis": "y"
        },
        {
         "hovertemplate": "Publication=%{x}<br>Average Citations=%{marker.size}<extra></extra>",
         "legendgroup": "nature.com",
         "marker": {
          "color": "#19d3f3",
          "size": [
           640
          ],
          "sizemode": "area",
          "sizeref": 33.8875,
          "symbol": "circle"
         },
         "mode": "markers",
         "name": "nature.com",
         "orientation": "v",
         "showlegend": true,
         "type": "scatter",
         "x": [
          "nature.com"
         ],
         "xaxis": "x",
         "y": [
          640
         ],
         "yaxis": "y"
        },
        {
         "hovertemplate": "Publication=%{x}<br>Average Citations=%{marker.size}<extra></extra>",
         "legendgroup": "ncbi.nlm.nih.gov",
         "marker": {
          "color": "#FF6692",
          "size": [
           152.5
          ],
          "sizemode": "area",
          "sizeref": 33.8875,
          "symbol": "circle"
         },
         "mode": "markers",
         "name": "ncbi.nlm.nih.gov",
         "orientation": "v",
         "showlegend": true,
         "type": "scatter",
         "x": [
          "ncbi.nlm.nih.gov"
         ],
         "xaxis": "x",
         "y": [
          152.5
         ],
         "yaxis": "y"
        },
        {
         "hovertemplate": "Publication=%{x}<br>Average Citations=%{marker.size}<extra></extra>",
         "legendgroup": "ojs.aaai.org",
         "marker": {
          "color": "#B6E880",
          "size": [
           18
          ],
          "sizemode": "area",
          "sizeref": 33.8875,
          "symbol": "circle"
         },
         "mode": "markers",
         "name": "ojs.aaai.org",
         "orientation": "v",
         "showlegend": true,
         "type": "scatter",
         "x": [
          "ojs.aaai.org"
         ],
         "xaxis": "x",
         "y": [
          18
         ],
         "yaxis": "y"
        },
        {
         "hovertemplate": "Publication=%{x}<br>Average Citations=%{marker.size}<extra></extra>",
         "legendgroup": "open.library.ubc.ca",
         "marker": {
          "color": "#FF97FF",
          "size": [
           17
          ],
          "sizemode": "area",
          "sizeref": 33.8875,
          "symbol": "circle"
         },
         "mode": "markers",
         "name": "open.library.ubc.ca",
         "orientation": "v",
         "showlegend": true,
         "type": "scatter",
         "x": [
          "open.library.ubc.ca"
         ],
         "xaxis": "x",
         "y": [
          17
         ],
         "yaxis": "y"
        },
        {
         "hovertemplate": "Publication=%{x}<br>Average Citations=%{marker.size}<extra></extra>",
         "legendgroup": "opg.optica.org",
         "marker": {
          "color": "#FECB52",
          "size": [
           81.33333333333333
          ],
          "sizemode": "area",
          "sizeref": 33.8875,
          "symbol": "circle"
         },
         "mode": "markers",
         "name": "opg.optica.org",
         "orientation": "v",
         "showlegend": true,
         "type": "scatter",
         "x": [
          "opg.optica.org"
         ],
         "xaxis": "x",
         "y": [
          81.33333333333333
         ],
         "yaxis": "y"
        },
        {
         "hovertemplate": "Publication=%{x}<br>Average Citations=%{marker.size}<extra></extra>",
         "legendgroup": "papers.ssrn.com",
         "marker": {
          "color": "#636efa",
          "size": [
           9
          ],
          "sizemode": "area",
          "sizeref": 33.8875,
          "symbol": "circle"
         },
         "mode": "markers",
         "name": "papers.ssrn.com",
         "orientation": "v",
         "showlegend": true,
         "type": "scatter",
         "x": [
          "papers.ssrn.com"
         ],
         "xaxis": "x",
         "y": [
          9
         ],
         "yaxis": "y"
        },
        {
         "hovertemplate": "Publication=%{x}<br>Average Citations=%{marker.size}<extra></extra>",
         "legendgroup": "pastel.hal.science",
         "marker": {
          "color": "#EF553B",
          "size": [
           4
          ],
          "sizemode": "area",
          "sizeref": 33.8875,
          "symbol": "circle"
         },
         "mode": "markers",
         "name": "pastel.hal.science",
         "orientation": "v",
         "showlegend": true,
         "type": "scatter",
         "x": [
          "pastel.hal.science"
         ],
         "xaxis": "x",
         "y": [
          4
         ],
         "yaxis": "y"
        },
        {
         "hovertemplate": "Publication=%{x}<br>Average Citations=%{marker.size}<extra></extra>",
         "legendgroup": "proceedings.mlr.press",
         "marker": {
          "color": "#00cc96",
          "size": [
           28.25
          ],
          "sizemode": "area",
          "sizeref": 33.8875,
          "symbol": "circle"
         },
         "mode": "markers",
         "name": "proceedings.mlr.press",
         "orientation": "v",
         "showlegend": true,
         "type": "scatter",
         "x": [
          "proceedings.mlr.press"
         ],
         "xaxis": "x",
         "y": [
          28.25
         ],
         "yaxis": "y"
        },
        {
         "hovertemplate": "Publication=%{x}<br>Average Citations=%{marker.size}<extra></extra>",
         "legendgroup": "proceedings.neurips.cc",
         "marker": {
          "color": "#ab63fa",
          "size": [
           134.66666666666666
          ],
          "sizemode": "area",
          "sizeref": 33.8875,
          "symbol": "circle"
         },
         "mode": "markers",
         "name": "proceedings.neurips.cc",
         "orientation": "v",
         "showlegend": true,
         "type": "scatter",
         "x": [
          "proceedings.neurips.cc"
         ],
         "xaxis": "x",
         "y": [
          134.66666666666666
         ],
         "yaxis": "y"
        },
        {
         "hovertemplate": "Publication=%{x}<br>Average Citations=%{marker.size}<extra></extra>",
         "legendgroup": "projecteuclid.org",
         "marker": {
          "color": "#FFA15A",
          "size": [
           135.33333333333334
          ],
          "sizemode": "area",
          "sizeref": 33.8875,
          "symbol": "circle"
         },
         "mode": "markers",
         "name": "projecteuclid.org",
         "orientation": "v",
         "showlegend": true,
         "type": "scatter",
         "x": [
          "projecteuclid.org"
         ],
         "xaxis": "x",
         "y": [
          135.33333333333334
         ],
         "yaxis": "y"
        },
        {
         "hovertemplate": "Publication=%{x}<br>Average Citations=%{marker.size}<extra></extra>",
         "legendgroup": "pubs.aip.org",
         "marker": {
          "color": "#19d3f3",
          "size": [
           99.18181818181819
          ],
          "sizemode": "area",
          "sizeref": 33.8875,
          "symbol": "circle"
         },
         "mode": "markers",
         "name": "pubs.aip.org",
         "orientation": "v",
         "showlegend": true,
         "type": "scatter",
         "x": [
          "pubs.aip.org"
         ],
         "xaxis": "x",
         "y": [
          99.18181818181819
         ],
         "yaxis": "y"
        },
        {
         "hovertemplate": "Publication=%{x}<br>Average Citations=%{marker.size}<extra></extra>",
         "legendgroup": "pubs.geoscienceworld.org",
         "marker": {
          "color": "#FF6692",
          "size": [
           186
          ],
          "sizemode": "area",
          "sizeref": 33.8875,
          "symbol": "circle"
         },
         "mode": "markers",
         "name": "pubs.geoscienceworld.org",
         "orientation": "v",
         "showlegend": true,
         "type": "scatter",
         "x": [
          "pubs.geoscienceworld.org"
         ],
         "xaxis": "x",
         "y": [
          186
         ],
         "yaxis": "y"
        },
        {
         "hovertemplate": "Publication=%{x}<br>Average Citations=%{marker.size}<extra></extra>",
         "legendgroup": "repository.kaust.edu.sa",
         "marker": {
          "color": "#B6E880",
          "size": [
           16
          ],
          "sizemode": "area",
          "sizeref": 33.8875,
          "symbol": "circle"
         },
         "mode": "markers",
         "name": "repository.kaust.edu.sa",
         "orientation": "v",
         "showlegend": true,
         "type": "scatter",
         "x": [
          "repository.kaust.edu.sa"
         ],
         "xaxis": "x",
         "y": [
          16
         ],
         "yaxis": "y"
        },
        {
         "hovertemplate": "Publication=%{x}<br>Average Citations=%{marker.size}<extra></extra>",
         "legendgroup": "repository.uwc.ac.za",
         "marker": {
          "color": "#FF97FF",
          "size": [
           9
          ],
          "sizemode": "area",
          "sizeref": 33.8875,
          "symbol": "circle"
         },
         "mode": "markers",
         "name": "repository.uwc.ac.za",
         "orientation": "v",
         "showlegend": true,
         "type": "scatter",
         "x": [
          "repository.uwc.ac.za"
         ],
         "xaxis": "x",
         "y": [
          9
         ],
         "yaxis": "y"
        },
        {
         "hovertemplate": "Publication=%{x}<br>Average Citations=%{marker.size}<extra></extra>",
         "legendgroup": "research.tue.nl",
         "marker": {
          "color": "#FECB52",
          "size": [
           145
          ],
          "sizemode": "area",
          "sizeref": 33.8875,
          "symbol": "circle"
         },
         "mode": "markers",
         "name": "research.tue.nl",
         "orientation": "v",
         "showlegend": true,
         "type": "scatter",
         "x": [
          "research.tue.nl"
         ],
         "xaxis": "x",
         "y": [
          145
         ],
         "yaxis": "y"
        },
        {
         "hovertemplate": "Publication=%{x}<br>Average Citations=%{marker.size}<extra></extra>",
         "legendgroup": "researchexchange.iaao.org",
         "marker": {
          "color": "#636efa",
          "size": [
           3
          ],
          "sizemode": "area",
          "sizeref": 33.8875,
          "symbol": "circle"
         },
         "mode": "markers",
         "name": "researchexchange.iaao.org",
         "orientation": "v",
         "showlegend": true,
         "type": "scatter",
         "x": [
          "researchexchange.iaao.org"
         ],
         "xaxis": "x",
         "y": [
          3
         ],
         "yaxis": "y"
        },
        {
         "hovertemplate": "Publication=%{x}<br>Average Citations=%{marker.size}<extra></extra>",
         "legendgroup": "researchgate.net",
         "marker": {
          "color": "#EF553B",
          "size": [
           121.2
          ],
          "sizemode": "area",
          "sizeref": 33.8875,
          "symbol": "circle"
         },
         "mode": "markers",
         "name": "researchgate.net",
         "orientation": "v",
         "showlegend": true,
         "type": "scatter",
         "x": [
          "researchgate.net"
         ],
         "xaxis": "x",
         "y": [
          121.2
         ],
         "yaxis": "y"
        },
        {
         "hovertemplate": "Publication=%{x}<br>Average Citations=%{marker.size}<extra></extra>",
         "legendgroup": "royalsocietypublishing.org",
         "marker": {
          "color": "#00cc96",
          "size": [
           19
          ],
          "sizemode": "area",
          "sizeref": 33.8875,
          "symbol": "circle"
         },
         "mode": "markers",
         "name": "royalsocietypublishing.org",
         "orientation": "v",
         "showlegend": true,
         "type": "scatter",
         "x": [
          "royalsocietypublishing.org"
         ],
         "xaxis": "x",
         "y": [
          19
         ],
         "yaxis": "y"
        },
        {
         "hovertemplate": "Publication=%{x}<br>Average Citations=%{marker.size}<extra></extra>",
         "legendgroup": "sciendo.com",
         "marker": {
          "color": "#ab63fa",
          "size": [
           8
          ],
          "sizemode": "area",
          "sizeref": 33.8875,
          "symbol": "circle"
         },
         "mode": "markers",
         "name": "sciendo.com",
         "orientation": "v",
         "showlegend": true,
         "type": "scatter",
         "x": [
          "sciendo.com"
         ],
         "xaxis": "x",
         "y": [
          8
         ],
         "yaxis": "y"
        },
        {
         "hovertemplate": "Publication=%{x}<br>Average Citations=%{marker.size}<extra></extra>",
         "legendgroup": "search.proquest.com",
         "marker": {
          "color": "#FFA15A",
          "size": [
           761
          ],
          "sizemode": "area",
          "sizeref": 33.8875,
          "symbol": "circle"
         },
         "mode": "markers",
         "name": "search.proquest.com",
         "orientation": "v",
         "showlegend": true,
         "type": "scatter",
         "x": [
          "search.proquest.com"
         ],
         "xaxis": "x",
         "y": [
          761
         ],
         "yaxis": "y"
        },
        {
         "hovertemplate": "Publication=%{x}<br>Average Citations=%{marker.size}<extra></extra>",
         "legendgroup": "sites.uclouvain.be",
         "marker": {
          "color": "#19d3f3",
          "size": [
           2
          ],
          "sizemode": "area",
          "sizeref": 33.8875,
          "symbol": "circle"
         },
         "mode": "markers",
         "name": "sites.uclouvain.be",
         "orientation": "v",
         "showlegend": true,
         "type": "scatter",
         "x": [
          "sites.uclouvain.be"
         ],
         "xaxis": "x",
         "y": [
          2
         ],
         "yaxis": "y"
        },
        {
         "hovertemplate": "Publication=%{x}<br>Average Citations=%{marker.size}<extra></extra>",
         "legendgroup": "spiedigitallibrary.org",
         "marker": {
          "color": "#FF6692",
          "size": [
           12.4
          ],
          "sizemode": "area",
          "sizeref": 33.8875,
          "symbol": "circle"
         },
         "mode": "markers",
         "name": "spiedigitallibrary.org",
         "orientation": "v",
         "showlegend": true,
         "type": "scatter",
         "x": [
          "spiedigitallibrary.org"
         ],
         "xaxis": "x",
         "y": [
          12.4
         ],
         "yaxis": "y"
        },
        {
         "hovertemplate": "Publication=%{x}<br>Average Citations=%{marker.size}<extra></extra>",
         "legendgroup": "taylorfrancis.com",
         "marker": {
          "color": "#B6E880",
          "size": [
           5468
          ],
          "sizemode": "area",
          "sizeref": 33.8875,
          "symbol": "circle"
         },
         "mode": "markers",
         "name": "taylorfrancis.com",
         "orientation": "v",
         "showlegend": true,
         "type": "scatter",
         "x": [
          "taylorfrancis.com"
         ],
         "xaxis": "x",
         "y": [
          5468
         ],
         "yaxis": "y"
        },
        {
         "hovertemplate": "Publication=%{x}<br>Average Citations=%{marker.size}<extra></extra>",
         "legendgroup": "ui.adsabs.harvard.edu",
         "marker": {
          "color": "#FF97FF",
          "size": [
           11
          ],
          "sizemode": "area",
          "sizeref": 33.8875,
          "symbol": "circle"
         },
         "mode": "markers",
         "name": "ui.adsabs.harvard.edu",
         "orientation": "v",
         "showlegend": true,
         "type": "scatter",
         "x": [
          "ui.adsabs.harvard.edu"
         ],
         "xaxis": "x",
         "y": [
          11
         ],
         "yaxis": "y"
        },
        {
         "hovertemplate": "Publication=%{x}<br>Average Citations=%{marker.size}<extra></extra>",
         "legendgroup": "upcommons.upc.edu",
         "marker": {
          "color": "#FECB52",
          "size": [
           9
          ],
          "sizemode": "area",
          "sizeref": 33.8875,
          "symbol": "circle"
         },
         "mode": "markers",
         "name": "upcommons.upc.edu",
         "orientation": "v",
         "showlegend": true,
         "type": "scatter",
         "x": [
          "upcommons.upc.edu"
         ],
         "xaxis": "x",
         "y": [
          9
         ],
         "yaxis": "y"
        },
        {
         "hovertemplate": "Publication=%{x}<br>Average Citations=%{marker.size}<extra></extra>",
         "legendgroup": "webhome.auburn.edu",
         "marker": {
          "color": "#636efa",
          "size": [
           5
          ],
          "sizemode": "area",
          "sizeref": 33.8875,
          "symbol": "circle"
         },
         "mode": "markers",
         "name": "webhome.auburn.edu",
         "orientation": "v",
         "showlegend": true,
         "type": "scatter",
         "x": [
          "webhome.auburn.edu"
         ],
         "xaxis": "x",
         "y": [
          5
         ],
         "yaxis": "y"
        },
        {
         "hovertemplate": "Publication=%{x}<br>Average Citations=%{marker.size}<extra></extra>",
         "legendgroup": "wwwisg.cs.uni-magdeburg.de",
         "marker": {
          "color": "#EF553B",
          "size": [
           3
          ],
          "sizemode": "area",
          "sizeref": 33.8875,
          "symbol": "circle"
         },
         "mode": "markers",
         "name": "wwwisg.cs.uni-magdeburg.de",
         "orientation": "v",
         "showlegend": true,
         "type": "scatter",
         "x": [
          "wwwisg.cs.uni-magdeburg.de"
         ],
         "xaxis": "x",
         "y": [
          3
         ],
         "yaxis": "y"
        }
       ],
       "layout": {
        "legend": {
         "itemsizing": "constant",
         "title": {
          "text": "Publication"
         },
         "tracegroupgap": 0
        },
        "template": {
         "data": {
          "bar": [
           {
            "error_x": {
             "color": "#2a3f5f"
            },
            "error_y": {
             "color": "#2a3f5f"
            },
            "marker": {
             "line": {
              "color": "#E5ECF6",
              "width": 0.5
             },
             "pattern": {
              "fillmode": "overlay",
              "size": 10,
              "solidity": 0.2
             }
            },
            "type": "bar"
           }
          ],
          "barpolar": [
           {
            "marker": {
             "line": {
              "color": "#E5ECF6",
              "width": 0.5
             },
             "pattern": {
              "fillmode": "overlay",
              "size": 10,
              "solidity": 0.2
             }
            },
            "type": "barpolar"
           }
          ],
          "carpet": [
           {
            "aaxis": {
             "endlinecolor": "#2a3f5f",
             "gridcolor": "white",
             "linecolor": "white",
             "minorgridcolor": "white",
             "startlinecolor": "#2a3f5f"
            },
            "baxis": {
             "endlinecolor": "#2a3f5f",
             "gridcolor": "white",
             "linecolor": "white",
             "minorgridcolor": "white",
             "startlinecolor": "#2a3f5f"
            },
            "type": "carpet"
           }
          ],
          "choropleth": [
           {
            "colorbar": {
             "outlinewidth": 0,
             "ticks": ""
            },
            "type": "choropleth"
           }
          ],
          "contour": [
           {
            "colorbar": {
             "outlinewidth": 0,
             "ticks": ""
            },
            "colorscale": [
             [
              0,
              "#0d0887"
             ],
             [
              0.1111111111111111,
              "#46039f"
             ],
             [
              0.2222222222222222,
              "#7201a8"
             ],
             [
              0.3333333333333333,
              "#9c179e"
             ],
             [
              0.4444444444444444,
              "#bd3786"
             ],
             [
              0.5555555555555556,
              "#d8576b"
             ],
             [
              0.6666666666666666,
              "#ed7953"
             ],
             [
              0.7777777777777778,
              "#fb9f3a"
             ],
             [
              0.8888888888888888,
              "#fdca26"
             ],
             [
              1,
              "#f0f921"
             ]
            ],
            "type": "contour"
           }
          ],
          "contourcarpet": [
           {
            "colorbar": {
             "outlinewidth": 0,
             "ticks": ""
            },
            "type": "contourcarpet"
           }
          ],
          "heatmap": [
           {
            "colorbar": {
             "outlinewidth": 0,
             "ticks": ""
            },
            "colorscale": [
             [
              0,
              "#0d0887"
             ],
             [
              0.1111111111111111,
              "#46039f"
             ],
             [
              0.2222222222222222,
              "#7201a8"
             ],
             [
              0.3333333333333333,
              "#9c179e"
             ],
             [
              0.4444444444444444,
              "#bd3786"
             ],
             [
              0.5555555555555556,
              "#d8576b"
             ],
             [
              0.6666666666666666,
              "#ed7953"
             ],
             [
              0.7777777777777778,
              "#fb9f3a"
             ],
             [
              0.8888888888888888,
              "#fdca26"
             ],
             [
              1,
              "#f0f921"
             ]
            ],
            "type": "heatmap"
           }
          ],
          "heatmapgl": [
           {
            "colorbar": {
             "outlinewidth": 0,
             "ticks": ""
            },
            "colorscale": [
             [
              0,
              "#0d0887"
             ],
             [
              0.1111111111111111,
              "#46039f"
             ],
             [
              0.2222222222222222,
              "#7201a8"
             ],
             [
              0.3333333333333333,
              "#9c179e"
             ],
             [
              0.4444444444444444,
              "#bd3786"
             ],
             [
              0.5555555555555556,
              "#d8576b"
             ],
             [
              0.6666666666666666,
              "#ed7953"
             ],
             [
              0.7777777777777778,
              "#fb9f3a"
             ],
             [
              0.8888888888888888,
              "#fdca26"
             ],
             [
              1,
              "#f0f921"
             ]
            ],
            "type": "heatmapgl"
           }
          ],
          "histogram": [
           {
            "marker": {
             "pattern": {
              "fillmode": "overlay",
              "size": 10,
              "solidity": 0.2
             }
            },
            "type": "histogram"
           }
          ],
          "histogram2d": [
           {
            "colorbar": {
             "outlinewidth": 0,
             "ticks": ""
            },
            "colorscale": [
             [
              0,
              "#0d0887"
             ],
             [
              0.1111111111111111,
              "#46039f"
             ],
             [
              0.2222222222222222,
              "#7201a8"
             ],
             [
              0.3333333333333333,
              "#9c179e"
             ],
             [
              0.4444444444444444,
              "#bd3786"
             ],
             [
              0.5555555555555556,
              "#d8576b"
             ],
             [
              0.6666666666666666,
              "#ed7953"
             ],
             [
              0.7777777777777778,
              "#fb9f3a"
             ],
             [
              0.8888888888888888,
              "#fdca26"
             ],
             [
              1,
              "#f0f921"
             ]
            ],
            "type": "histogram2d"
           }
          ],
          "histogram2dcontour": [
           {
            "colorbar": {
             "outlinewidth": 0,
             "ticks": ""
            },
            "colorscale": [
             [
              0,
              "#0d0887"
             ],
             [
              0.1111111111111111,
              "#46039f"
             ],
             [
              0.2222222222222222,
              "#7201a8"
             ],
             [
              0.3333333333333333,
              "#9c179e"
             ],
             [
              0.4444444444444444,
              "#bd3786"
             ],
             [
              0.5555555555555556,
              "#d8576b"
             ],
             [
              0.6666666666666666,
              "#ed7953"
             ],
             [
              0.7777777777777778,
              "#fb9f3a"
             ],
             [
              0.8888888888888888,
              "#fdca26"
             ],
             [
              1,
              "#f0f921"
             ]
            ],
            "type": "histogram2dcontour"
           }
          ],
          "mesh3d": [
           {
            "colorbar": {
             "outlinewidth": 0,
             "ticks": ""
            },
            "type": "mesh3d"
           }
          ],
          "parcoords": [
           {
            "line": {
             "colorbar": {
              "outlinewidth": 0,
              "ticks": ""
             }
            },
            "type": "parcoords"
           }
          ],
          "pie": [
           {
            "automargin": true,
            "type": "pie"
           }
          ],
          "scatter": [
           {
            "fillpattern": {
             "fillmode": "overlay",
             "size": 10,
             "solidity": 0.2
            },
            "type": "scatter"
           }
          ],
          "scatter3d": [
           {
            "line": {
             "colorbar": {
              "outlinewidth": 0,
              "ticks": ""
             }
            },
            "marker": {
             "colorbar": {
              "outlinewidth": 0,
              "ticks": ""
             }
            },
            "type": "scatter3d"
           }
          ],
          "scattercarpet": [
           {
            "marker": {
             "colorbar": {
              "outlinewidth": 0,
              "ticks": ""
             }
            },
            "type": "scattercarpet"
           }
          ],
          "scattergeo": [
           {
            "marker": {
             "colorbar": {
              "outlinewidth": 0,
              "ticks": ""
             }
            },
            "type": "scattergeo"
           }
          ],
          "scattergl": [
           {
            "marker": {
             "colorbar": {
              "outlinewidth": 0,
              "ticks": ""
             }
            },
            "type": "scattergl"
           }
          ],
          "scattermapbox": [
           {
            "marker": {
             "colorbar": {
              "outlinewidth": 0,
              "ticks": ""
             }
            },
            "type": "scattermapbox"
           }
          ],
          "scatterpolar": [
           {
            "marker": {
             "colorbar": {
              "outlinewidth": 0,
              "ticks": ""
             }
            },
            "type": "scatterpolar"
           }
          ],
          "scatterpolargl": [
           {
            "marker": {
             "colorbar": {
              "outlinewidth": 0,
              "ticks": ""
             }
            },
            "type": "scatterpolargl"
           }
          ],
          "scatterternary": [
           {
            "marker": {
             "colorbar": {
              "outlinewidth": 0,
              "ticks": ""
             }
            },
            "type": "scatterternary"
           }
          ],
          "surface": [
           {
            "colorbar": {
             "outlinewidth": 0,
             "ticks": ""
            },
            "colorscale": [
             [
              0,
              "#0d0887"
             ],
             [
              0.1111111111111111,
              "#46039f"
             ],
             [
              0.2222222222222222,
              "#7201a8"
             ],
             [
              0.3333333333333333,
              "#9c179e"
             ],
             [
              0.4444444444444444,
              "#bd3786"
             ],
             [
              0.5555555555555556,
              "#d8576b"
             ],
             [
              0.6666666666666666,
              "#ed7953"
             ],
             [
              0.7777777777777778,
              "#fb9f3a"
             ],
             [
              0.8888888888888888,
              "#fdca26"
             ],
             [
              1,
              "#f0f921"
             ]
            ],
            "type": "surface"
           }
          ],
          "table": [
           {
            "cells": {
             "fill": {
              "color": "#EBF0F8"
             },
             "line": {
              "color": "white"
             }
            },
            "header": {
             "fill": {
              "color": "#C8D4E3"
             },
             "line": {
              "color": "white"
             }
            },
            "type": "table"
           }
          ]
         },
         "layout": {
          "annotationdefaults": {
           "arrowcolor": "#2a3f5f",
           "arrowhead": 0,
           "arrowwidth": 1
          },
          "autotypenumbers": "strict",
          "coloraxis": {
           "colorbar": {
            "outlinewidth": 0,
            "ticks": ""
           }
          },
          "colorscale": {
           "diverging": [
            [
             0,
             "#8e0152"
            ],
            [
             0.1,
             "#c51b7d"
            ],
            [
             0.2,
             "#de77ae"
            ],
            [
             0.3,
             "#f1b6da"
            ],
            [
             0.4,
             "#fde0ef"
            ],
            [
             0.5,
             "#f7f7f7"
            ],
            [
             0.6,
             "#e6f5d0"
            ],
            [
             0.7,
             "#b8e186"
            ],
            [
             0.8,
             "#7fbc41"
            ],
            [
             0.9,
             "#4d9221"
            ],
            [
             1,
             "#276419"
            ]
           ],
           "sequential": [
            [
             0,
             "#0d0887"
            ],
            [
             0.1111111111111111,
             "#46039f"
            ],
            [
             0.2222222222222222,
             "#7201a8"
            ],
            [
             0.3333333333333333,
             "#9c179e"
            ],
            [
             0.4444444444444444,
             "#bd3786"
            ],
            [
             0.5555555555555556,
             "#d8576b"
            ],
            [
             0.6666666666666666,
             "#ed7953"
            ],
            [
             0.7777777777777778,
             "#fb9f3a"
            ],
            [
             0.8888888888888888,
             "#fdca26"
            ],
            [
             1,
             "#f0f921"
            ]
           ],
           "sequentialminus": [
            [
             0,
             "#0d0887"
            ],
            [
             0.1111111111111111,
             "#46039f"
            ],
            [
             0.2222222222222222,
             "#7201a8"
            ],
            [
             0.3333333333333333,
             "#9c179e"
            ],
            [
             0.4444444444444444,
             "#bd3786"
            ],
            [
             0.5555555555555556,
             "#d8576b"
            ],
            [
             0.6666666666666666,
             "#ed7953"
            ],
            [
             0.7777777777777778,
             "#fb9f3a"
            ],
            [
             0.8888888888888888,
             "#fdca26"
            ],
            [
             1,
             "#f0f921"
            ]
           ]
          },
          "colorway": [
           "#636efa",
           "#EF553B",
           "#00cc96",
           "#ab63fa",
           "#FFA15A",
           "#19d3f3",
           "#FF6692",
           "#B6E880",
           "#FF97FF",
           "#FECB52"
          ],
          "font": {
           "color": "#2a3f5f"
          },
          "geo": {
           "bgcolor": "white",
           "lakecolor": "white",
           "landcolor": "#E5ECF6",
           "showlakes": true,
           "showland": true,
           "subunitcolor": "white"
          },
          "hoverlabel": {
           "align": "left"
          },
          "hovermode": "closest",
          "mapbox": {
           "style": "light"
          },
          "paper_bgcolor": "white",
          "plot_bgcolor": "#E5ECF6",
          "polar": {
           "angularaxis": {
            "gridcolor": "white",
            "linecolor": "white",
            "ticks": ""
           },
           "bgcolor": "#E5ECF6",
           "radialaxis": {
            "gridcolor": "white",
            "linecolor": "white",
            "ticks": ""
           }
          },
          "scene": {
           "xaxis": {
            "backgroundcolor": "#E5ECF6",
            "gridcolor": "white",
            "gridwidth": 2,
            "linecolor": "white",
            "showbackground": true,
            "ticks": "",
            "zerolinecolor": "white"
           },
           "yaxis": {
            "backgroundcolor": "#E5ECF6",
            "gridcolor": "white",
            "gridwidth": 2,
            "linecolor": "white",
            "showbackground": true,
            "ticks": "",
            "zerolinecolor": "white"
           },
           "zaxis": {
            "backgroundcolor": "#E5ECF6",
            "gridcolor": "white",
            "gridwidth": 2,
            "linecolor": "white",
            "showbackground": true,
            "ticks": "",
            "zerolinecolor": "white"
           }
          },
          "shapedefaults": {
           "line": {
            "color": "#2a3f5f"
           }
          },
          "ternary": {
           "aaxis": {
            "gridcolor": "white",
            "linecolor": "white",
            "ticks": ""
           },
           "baxis": {
            "gridcolor": "white",
            "linecolor": "white",
            "ticks": ""
           },
           "bgcolor": "#E5ECF6",
           "caxis": {
            "gridcolor": "white",
            "linecolor": "white",
            "ticks": ""
           }
          },
          "title": {
           "x": 0.05
          },
          "xaxis": {
           "automargin": true,
           "gridcolor": "white",
           "linecolor": "white",
           "ticks": "",
           "title": {
            "standoff": 15
           },
           "zerolinecolor": "white",
           "zerolinewidth": 2
          },
          "yaxis": {
           "automargin": true,
           "gridcolor": "white",
           "linecolor": "white",
           "ticks": "",
           "title": {
            "standoff": 15
           },
           "zerolinecolor": "white",
           "zerolinewidth": 2
          }
         }
        },
        "title": {
         "text": "Average Citations for Each Publication (Bubble Chart)"
        },
        "xaxis": {
         "anchor": "y",
         "categoryarray": [
          "46.28.109.63",
          "APS",
          "Citeseer",
          "Elsevier",
          "Francis",
          "IET",
          "JSTOR",
          "Library",
          "Publications",
          "SIAM",
          "Sciences",
          "Scientific",
          "Springer",
          "academia.edu",
          "academic.oup.com",
          "ams.org",
          "anale-informatica.tibiscus.ro",
          "arc.aiaa.org",
          "arxiv.org",
          "ascelibrary.org",
          "asmedigitalcollection.asme.org",
          "atcm.mathandtech.org",
          "bibliotekanauki.pl",
          "books.google.com",
          "cambridge.org",
          "ch.whu.edu.cn",
          "content.iospress.com",
          "core.ac.uk",
          "degruyter.com",
          "dialnet.unirioja.es",
          "direct.mit.edu",
          "diva-portal.org",
          "dl.acm.org",
          "dml.mathdoc.fr",
          "doiserbia.nb.rs",
          "elibrary.ru",
          "emerald.com",
          "emis.de",
          "etd.uwc.ac.za",
          "grafar.grf.bg.ac.rs",
          "hal.science",
          "hindawi.com",
          "ieeexplore.ieee.org",
          "ijcaonline.com",
          "infona.pl",
          "ingentaconnect.com",
          "inis.iaea.org",
          "iopscience.iop.org",
          "jkps.or.kr",
          "jmlr.org",
          "journals.ametsoc.org",
          "journals.plos.org",
          "journals.sagepub.com",
          "jp4.journaldephysique.org",
          "jurnal.untirta.ac.id",
          "kar.kent.ac.uk",
          "kleine.mat.uniroma3.it",
          "library.iated.org",
          "library.seg.org",
          "liebertpub.com",
          "malabdali.com",
          "matf.bg.ac.rs",
          "math.princeton.edu",
          "math.upenn.edu",
          "mdpi.com",
          "nature.com",
          "ncbi.nlm.nih.gov",
          "ojs.aaai.org",
          "open.library.ubc.ca",
          "opg.optica.org",
          "papers.ssrn.com",
          "pastel.hal.science",
          "proceedings.mlr.press",
          "proceedings.neurips.cc",
          "projecteuclid.org",
          "pubs.aip.org",
          "pubs.geoscienceworld.org",
          "repository.kaust.edu.sa",
          "repository.uwc.ac.za",
          "research.tue.nl",
          "researchexchange.iaao.org",
          "researchgate.net",
          "royalsocietypublishing.org",
          "sciendo.com",
          "search.proquest.com",
          "sites.uclouvain.be",
          "spiedigitallibrary.org",
          "taylorfrancis.com",
          "ui.adsabs.harvard.edu",
          "upcommons.upc.edu",
          "webhome.auburn.edu",
          "wwwisg.cs.uni-magdeburg.de"
         ],
         "categoryorder": "array",
         "domain": [
          0,
          1
         ],
         "title": {
          "text": "Publication"
         }
        },
        "yaxis": {
         "anchor": "x",
         "domain": [
          0,
          1
         ],
         "title": {
          "text": "Average Citations"
         }
        }
       }
      }
     },
     "metadata": {},
     "output_type": "display_data"
    }
   ],
   "source": [
    "# Create a bubble chart using Plotly\n",
    "fig = px.scatter(avg_citations_per_publication, x='Publication', y='Num_citation', \n",
    "                 size='Num_citation', color='Publication',\n",
    "                 labels={'Publication': 'Publication', 'Num_citation': 'Average Citations'},\n",
    "                 title='Average Citations for Each Publication (Bubble Chart)')\n",
    "fig.show()"
   ]
  },
  {
   "cell_type": "markdown",
   "metadata": {},
   "source": [
    "**Most common author for top 5 publication**"
   ]
  },
  {
   "cell_type": "code",
   "execution_count": 36,
   "metadata": {},
   "outputs": [
    {
     "data": {
      "text/plain": [
       "Index(['Elsevier', 'ieeexplore.ieee.org', 'Springer', 'Library', 'SIAM'], dtype='object', name='Publication')"
      ]
     },
     "execution_count": 36,
     "metadata": {},
     "output_type": "execute_result"
    }
   ],
   "source": [
    "top_5_publications = publication_counts.index[:5]\n",
    "top_5_publications"
   ]
  },
  {
   "cell_type": "code",
   "execution_count": 37,
   "metadata": {},
   "outputs": [
    {
     "name": "stdout",
     "output_type": "stream",
     "text": [
      "Most Common Author and Count for Each Top 5 Publications:\n"
     ]
    },
    {
     "data": {
      "text/html": [
       "<div>\n",
       "<style scoped>\n",
       "    .dataframe tbody tr th:only-of-type {\n",
       "        vertical-align: middle;\n",
       "    }\n",
       "\n",
       "    .dataframe tbody tr th {\n",
       "        vertical-align: top;\n",
       "    }\n",
       "\n",
       "    .dataframe thead th {\n",
       "        text-align: right;\n",
       "    }\n",
       "</style>\n",
       "<table border=\"1\" class=\"dataframe\">\n",
       "  <thead>\n",
       "    <tr style=\"text-align: right;\">\n",
       "      <th></th>\n",
       "      <th>Publication</th>\n",
       "      <th>Most Common Author</th>\n",
       "      <th>Count</th>\n",
       "    </tr>\n",
       "  </thead>\n",
       "  <tbody>\n",
       "    <tr>\n",
       "      <th>0</th>\n",
       "      <td>Elsevier</td>\n",
       "      <td>ED Übeyli</td>\n",
       "      <td>5</td>\n",
       "    </tr>\n",
       "    <tr>\n",
       "      <th>1</th>\n",
       "      <td>ieeexplore.ieee.org</td>\n",
       "      <td>SC Pei</td>\n",
       "      <td>4</td>\n",
       "    </tr>\n",
       "    <tr>\n",
       "      <th>2</th>\n",
       "      <td>Springer</td>\n",
       "      <td>B Mohar</td>\n",
       "      <td>2</td>\n",
       "    </tr>\n",
       "    <tr>\n",
       "      <th>3</th>\n",
       "      <td>Library</td>\n",
       "      <td>DA Griffith</td>\n",
       "      <td>2</td>\n",
       "    </tr>\n",
       "    <tr>\n",
       "      <th>4</th>\n",
       "      <td>SIAM</td>\n",
       "      <td>Z Bai</td>\n",
       "      <td>3</td>\n",
       "    </tr>\n",
       "  </tbody>\n",
       "</table>\n",
       "</div>"
      ],
      "text/plain": [
       "           Publication Most Common Author  Count\n",
       "0             Elsevier          ED Übeyli      5\n",
       "1  ieeexplore.ieee.org             SC Pei      4\n",
       "2             Springer            B Mohar      2\n",
       "3              Library        DA Griffith      2\n",
       "4                 SIAM              Z Bai      3"
      ]
     },
     "execution_count": 37,
     "metadata": {},
     "output_type": "execute_result"
    }
   ],
   "source": [
    "# Initialize an empty list to store results\n",
    "top_5_most_common_authors = []\n",
    "\n",
    "# Loop through each top publication and find the most common author along with count\n",
    "for publication in top_5_publications:\n",
    "    # Filter the DataFrame for the current publication\n",
    "    publication_df = df_authors[df_authors['Publication'] == publication]\n",
    "    # Count occurrences of each author for the publication\n",
    "    author_counts = publication_df['Authors'].explode().value_counts()\n",
    "    # Find the most common author\n",
    "    most_common_author = author_counts.idxmax()\n",
    "    # Get the count of the most common author\n",
    "    author_count = author_counts.max()\n",
    "    # Append the result to the list\n",
    "    top_5_most_common_authors.append({'Publication': publication, 'Most Common Author': most_common_author, 'Count': author_count})\n",
    "\n",
    "# Create a DataFrame from the results\n",
    "top_5_most_common_authors_df = pd.DataFrame(top_5_most_common_authors)\n",
    "\n",
    "# Display the DataFrame\n",
    "print(\"Most Common Author and Count for Each Top 5 Publications:\")\n",
    "top_5_most_common_authors_df"
   ]
  },
  {
   "cell_type": "code",
   "execution_count": null,
   "metadata": {},
   "outputs": [],
   "source": []
  }
 ],
 "metadata": {
  "kernelspec": {
   "display_name": "venv",
   "language": "python",
   "name": "python3"
  },
  "language_info": {
   "codemirror_mode": {
    "name": "ipython",
    "version": 3
   },
   "file_extension": ".py",
   "mimetype": "text/x-python",
   "name": "python",
   "nbconvert_exporter": "python",
   "pygments_lexer": "ipython3",
   "version": "3.10.12"
  }
 },
 "nbformat": 4,
 "nbformat_minor": 2
}
